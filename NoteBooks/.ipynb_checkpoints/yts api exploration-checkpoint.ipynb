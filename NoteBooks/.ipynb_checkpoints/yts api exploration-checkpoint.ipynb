{
 "cells": [
  {
   "cell_type": "code",
   "execution_count": 1,
   "metadata": {
    "executionInfo": {
     "elapsed": 7,
     "status": "ok",
     "timestamp": 1650988092371,
     "user": {
      "displayName": "Muhammad Abdullah",
      "userId": "12957962707231034749"
     },
     "user_tz": -300
    },
    "id": "Ok34tKJ_Vu4H"
   },
   "outputs": [],
   "source": [
    "import pandas as pd\n",
    "import requests\n",
    "from datetime import datetime\n",
    "import json\n",
    "import os\n",
    "from dateutil import parser\n",
    "import collections"
   ]
  },
  {
   "cell_type": "markdown",
   "metadata": {
    "id": "WEdS2D5LjI32"
   },
   "source": [
    "The following code helps to determine whether new data is inserted in api database or not, if so then we have to pull new movies data and put that in database and update tracking parameters. "
   ]
  },
  {
   "cell_type": "code",
   "execution_count": 2,
   "metadata": {
    "colab": {
     "base_uri": "https://localhost:8080/"
    },
    "executionInfo": {
     "elapsed": 15,
     "status": "ok",
     "timestamp": 1650904506940,
     "user": {
      "displayName": "Muhammad Abdullah",
      "userId": "12957962707231034749"
     },
     "user_tz": -300
    },
    "id": "VLW0wQJXgACi",
    "outputId": "8b01bde6-693e-4a1b-ada1-25987bf7a9e6"
   },
   "outputs": [],
   "source": [
    "last_page =  requests.get('https://yts.torrentbay.to/api/v2/list_movies.json?page=821&limit=50').json()\n",
    "# first_page = requests.get('https://yts.torrentbay.to/api/v2/list_movies.json?page=1&limit=50').json()"
   ]
  },
  {
   "cell_type": "code",
   "execution_count": 24,
   "metadata": {},
   "outputs": [],
   "source": [
    "movie_a = last_page['data']['movies'][2]"
   ]
  },
  {
   "cell_type": "code",
   "execution_count": 25,
   "metadata": {},
   "outputs": [
    {
     "data": {
      "text/plain": [
       "'tt0082509'"
      ]
     },
     "execution_count": 25,
     "metadata": {},
     "output_type": "execute_result"
    }
   ],
   "source": [
    "movie_a['imdb_code']"
   ]
  },
  {
   "cell_type": "code",
   "execution_count": 5,
   "metadata": {},
   "outputs": [
    {
     "data": {
      "text/plain": [
       "['Action', 'Adventure', 'Comedy', 'Drama']"
      ]
     },
     "execution_count": 5,
     "metadata": {},
     "output_type": "execute_result"
    }
   ],
   "source": [
    "movie_a['genres']"
   ]
  },
  {
   "cell_type": "code",
   "execution_count": null,
   "metadata": {},
   "outputs": [],
   "source": [
    "ids = [41763,41713]\n",
    "ids"
   ]
  },
  {
   "cell_type": "code",
   "execution_count": null,
   "metadata": {},
   "outputs": [],
   "source": [
    "def check_new_movies(ids:list):\n",
    "\n",
    "    page_number = 1\n",
    "    movies_list = []\n",
    "    while True:\n",
    "        init_page = requests.get(f'https://yts.torrentbay.to/api/v2/list_movies.json?page={page_number}&limit=50').json()\n",
    "\n",
    "        current_ids = [init_page['data']['movies'][0]['id'],init_page['data']['movies'][-1]['id']]\n",
    "\n",
    "        if current_ids > ids:\n",
    "            for movie in init_page['data']['movies']:\n",
    "                movies_list.append(movie['title'])\n",
    "        \n",
    "            page_number = page_number + 1\n",
    "\n",
    "        else:\n",
    "            break\n",
    "\n",
    "    return movies_list"
   ]
  },
  {
   "cell_type": "code",
   "execution_count": null,
   "metadata": {},
   "outputs": [],
   "source": [
    "mov_list = check_new_movies(ids)"
   ]
  },
  {
   "cell_type": "code",
   "execution_count": null,
   "metadata": {},
   "outputs": [],
   "source": [
    "for movie in first_page['data']['movies']:\n",
    "    print(movie)"
   ]
  },
  {
   "cell_type": "markdown",
   "metadata": {},
   "source": [
    "Below code is for extracting movie cast based on \"IMDB code\""
   ]
  },
  {
   "cell_type": "code",
   "execution_count": 17,
   "metadata": {},
   "outputs": [],
   "source": [
    "import requests\n",
    "from bs4 import BeautifulSoup\n",
    "import re\n",
    "import time"
   ]
  },
  {
   "cell_type": "markdown",
   "metadata": {},
   "source": [
    "## method to get cast list of given imdb movie id"
   ]
  },
  {
   "cell_type": "code",
   "execution_count": 18,
   "metadata": {},
   "outputs": [],
   "source": [
    "def get_cast(imdb_id : str):\n",
    "    \n",
    "    url = f'https://www.imdb.com/title/{imdb_id}/fullcredits'\n",
    "    page = requests.get(url)\n",
    "    soup = BeautifulSoup(page.content, 'html.parser')\n",
    "    table = soup.find('table', attrs={'class' : 'cast_list'})\n",
    "    cast = table.find_all('a')   \n",
    "    \n",
    "    return re.findall(r'title=\"(.*?)\"', str(cast))"
   ]
  },
  {
   "cell_type": "markdown",
   "metadata": {},
   "source": [
    "###  The following data needed to be pulled from api response and put in warehouse\n",
    "#### : imdb_code -> unique movie code given by IMDB\n",
    "#### : title_long -> full movie title with year\n",
    "#### : year -> released year\n",
    "#### : rating -> movie rating (1-10)\n",
    "#### : runtime -> in minutes\n",
    "#### : genres -> can be one or more\n",
    "#### : summary -> summary of movie\n",
    "#### : cast -> need to scrape from IMDB\n",
    "#### : mpa_rating -> movie sensorship rating\n",
    "#### : language -> can be one or more"
   ]
  },
  {
   "cell_type": "code",
   "execution_count": 18,
   "metadata": {},
   "outputs": [
    {
     "data": {
      "text/plain": [
       "('tt1289406',\n",
       " 'Harry Brown (2009)',\n",
       " 2009,\n",
       " 7.2,\n",
       " 103,\n",
       " ['Action', 'Crime', 'Drama', 'Thriller'],\n",
       " 'R',\n",
       " 'en')"
      ]
     },
     "execution_count": 18,
     "metadata": {},
     "output_type": "execute_result"
    }
   ],
   "source": [
    "movie_a['imdb_code'], movie_a['title_long'], movie_a['year'], movie_a['rating'], movie_a['runtime'], (movie_a['genres']), movie_a['mpa_rating'], movie_a['language']"
   ]
  },
  {
   "cell_type": "markdown",
   "metadata": {},
   "source": [
    "Here is the main problem, as movie has multiple genres, we need to figure out how to insert genres without repetation.\n",
    "First we need to insert \"imdb_code\" and \"movie_title\" in movies table. Then we have to check that genre exists in genre table, if so then we can skip, else insert it."
   ]
  },
  {
   "cell_type": "code",
   "execution_count": 6,
   "metadata": {},
   "outputs": [],
   "source": [
    "import pyodbc"
   ]
  },
  {
   "cell_type": "code",
   "execution_count": 7,
   "metadata": {},
   "outputs": [],
   "source": [
    "conn = pyodbc.connect('Driver={SQL Server};'\n",
    "                      'Server=DESKTOP-K8VV6KV;'\n",
    "                      'Database=yts_warehouse;'\n",
    "                      'Trusted_Connection=yes;'\n",
    "                       'autocommit=True')"
   ]
  },
  {
   "cell_type": "code",
   "execution_count": 8,
   "metadata": {},
   "outputs": [],
   "source": [
    "cursor = conn.cursor()"
   ]
  },
  {
   "cell_type": "code",
   "execution_count": 9,
   "metadata": {},
   "outputs": [],
   "source": [
    "cursor.execute(\"\"\"\n",
    "use yts_warehouse\n",
    "\"\"\");"
   ]
  },
  {
   "cell_type": "code",
   "execution_count": 10,
   "metadata": {},
   "outputs": [],
   "source": [
    "cursor.execute(\"\"\"\n",
    "DBCC CHECKIDENT ('[genre]', RESEED, 0);\n",
    "\"\"\");"
   ]
  },
  {
   "cell_type": "markdown",
   "metadata": {},
   "source": [
    "### inserting into movie table"
   ]
  },
  {
   "cell_type": "code",
   "execution_count": 26,
   "metadata": {},
   "outputs": [],
   "source": [
    "cursor.execute(\"\"\"\n",
    "insert into movies (imdb_id, title, year, rating, runtime, mpa_rating, language, date_uploaded)\n",
    "VALUES (?,?,?,?,?,?,?,?)\n",
    "\"\"\",\n",
    "movie_a['imdb_code'], movie_a['title_long'], movie_a['year'],movie_a['rating'], movie_a['runtime'], movie_a['mpa_rating'], movie_a['language'], movie_a['date_uploaded']              \n",
    "              );"
   ]
  },
  {
   "cell_type": "code",
   "execution_count": 27,
   "metadata": {},
   "outputs": [
    {
     "name": "stdout",
     "output_type": "stream",
     "text": [
      "('tt0082509', 'Heavy Metal (1981)', 1981, 6.6, 86.0, '', 'en', datetime.datetime(2015, 10, 31, 23, 53, 46))\n",
      "('tt1626146', 'Hector and the Search for Happiness (2014)', 2014, 6.9, 120.0, 'R', 'en', datetime.datetime(2022, 3, 29, 4, 36, 16))\n"
     ]
    }
   ],
   "source": [
    "cursor.execute('select * from movies')\n",
    "for i in cursor:\n",
    "    print(i)"
   ]
  },
  {
   "cell_type": "markdown",
   "metadata": {},
   "source": [
    "### inserting into genre and movie_genre table"
   ]
  },
  {
   "cell_type": "code",
   "execution_count": 28,
   "metadata": {},
   "outputs": [],
   "source": [
    "for genre in movie_a['genres']:\n",
    "    cursor.execute(\"\"\"\n",
    "                declare @temp_genre_id int;\n",
    "                if not exists (\n",
    "                                select * from genre\n",
    "                                where genre_title = ?\n",
    "                              )\n",
    "                begin\n",
    "                    insert into genre values(?)\n",
    "                end\n",
    "        select @temp_genre_id  = genre_id from genre where genre_title = ?\n",
    "        insert into movie_genre\n",
    "        values(?, @temp_genre_id)\n",
    "    \"\"\", genre, genre, genre, movie_a['imdb_code'])"
   ]
  },
  {
   "cell_type": "code",
   "execution_count": 29,
   "metadata": {},
   "outputs": [
    {
     "name": "stdout",
     "output_type": "stream",
     "text": [
      "(1, 'Action')\n",
      "(2, 'Adventure')\n",
      "(3, 'Comedy')\n",
      "(4, 'Drama')\n",
      "(5, 'Animation')\n",
      "(6, 'Fantasy')\n",
      "(7, 'Horror')\n",
      "(8, 'Sci-Fi')\n"
     ]
    }
   ],
   "source": [
    "cursor.execute('select *from genre')\n",
    "for i in cursor:\n",
    "    print(i)"
   ]
  },
  {
   "cell_type": "code",
   "execution_count": 30,
   "metadata": {},
   "outputs": [
    {
     "name": "stdout",
     "output_type": "stream",
     "text": [
      "('tt1626146', 1)\n",
      "('tt1626146', 2)\n",
      "('tt1626146', 3)\n",
      "('tt1626146', 4)\n",
      "('tt0082509', 1)\n",
      "('tt0082509', 2)\n",
      "('tt0082509', 5)\n",
      "('tt0082509', 6)\n",
      "('tt0082509', 7)\n",
      "('tt0082509', 8)\n"
     ]
    }
   ],
   "source": [
    "cursor.execute('select *from movie_genre')\n",
    "for i in cursor:\n",
    "    print(i)"
   ]
  },
  {
   "cell_type": "markdown",
   "metadata": {},
   "source": [
    "### inserting into genre and movie_genre table"
   ]
  },
  {
   "cell_type": "code",
   "execution_count": 31,
   "metadata": {},
   "outputs": [
    {
     "data": {
      "text/plain": [
       "['Don Francks',\n",
       " 'Caroline Semple',\n",
       " 'Richard Romanus',\n",
       " 'Susan Roman',\n",
       " 'Al Waxman',\n",
       " 'Harvey Atkin',\n",
       " 'John Candy',\n",
       " 'Glenis Wootton Gross',\n",
       " 'Marilyn Lightstone',\n",
       " 'Jackie Burroughs',\n",
       " 'Martin Lavut',\n",
       " 'August Schellenberg',\n",
       " 'John Vernon',\n",
       " 'Eugene Levy',\n",
       " 'Joe Flaherty',\n",
       " 'Rodger Bumpass',\n",
       " 'Douglas Kenney',\n",
       " 'George Touliatos',\n",
       " 'Zal Yanovsky',\n",
       " 'Patty Freedman',\n",
       " 'Warren Munson',\n",
       " 'Alice Playten',\n",
       " 'Harold Ramis',\n",
       " 'Vlasta Vrana',\n",
       " 'Mavor Moore',\n",
       " 'Thor Bishopric',\n",
       " 'Len Doncheff',\n",
       " 'Cedric Smith',\n",
       " 'Joseph Golland',\n",
       " 'Charles Jolliffe',\n",
       " 'Ned Conlon',\n",
       " 'Robby the Robot',\n",
       " 'Percy Rodrigues']"
      ]
     },
     "execution_count": 31,
     "metadata": {},
     "output_type": "execute_result"
    }
   ],
   "source": [
    "# before that, we need to scrape cast from imdb_page using movie id\n",
    "cast_list = get_cast(movie_a['imdb_code'])\n",
    "cast_list"
   ]
  },
  {
   "cell_type": "code",
   "execution_count": 32,
   "metadata": {},
   "outputs": [],
   "source": [
    "for actor in cast_list:\n",
    "    cursor.execute(\"\"\"\n",
    "                declare @temp_actor_id int;\n",
    "                if not exists (\n",
    "                                select * from cast\n",
    "                                where actor_name = ?\n",
    "                              )\n",
    "                begin\n",
    "                        insert into cast values(?)\n",
    "                end\n",
    "        select @temp_actor_id  = actor_id from cast where actor_name = ?\n",
    "        insert into movie_cast\n",
    "        values(?, @temp_actor_id)\n",
    "    \"\"\", actor, actor, actor, movie_a['imdb_code'])"
   ]
  },
  {
   "cell_type": "code",
   "execution_count": 33,
   "metadata": {},
   "outputs": [
    {
     "name": "stdout",
     "output_type": "stream",
     "text": [
      "(2, 'Simon Pegg')\n",
      "(3, 'Rosamund Pike')\n",
      "(4, 'Tracy-Ann Oberman')\n",
      "(5, 'Jean Reno')\n",
      "(6, 'Veronica Ferres')\n",
      "(7, 'Barry Atsma')\n",
      "(8, 'Ming Zhao')\n",
      "(9, 'Togo Igawa')\n",
      "(10, 'Christopher Plummer')\n",
      "(11, 'Bruce Fontaine')\n",
      "(12, 'Chad Willett')\n",
      "(13, 'Bernard Cuffling')\n",
      "(14, 'Jakob Davies')\n",
      "(15, 'Chris Gauthier')\n",
      "(16, 'Dean Paul Gibson')\n",
      "(17, 'Michael Adamthwaite')\n",
      "(18, 'Vincent Gale')\n",
      "(19, 'Gabrielle Rose')\n",
      "(20, 'Thorsten Wedekind')\n",
      "(21, 'Eileen Barrett')\n",
      "(22, 'Alexa Damián')\n",
      "(23, 'Malcolm Boddington')\n",
      "(24, 'Stellan Skarsgård')\n",
      "(25, 'Gribunina Marina')\n",
      "(26, 'Megan White')\n",
      "(27, 'Ingrid Lin')\n",
      "(28, 'Ana Trujic')\n",
      "(29, 'Wang Xiuze')\n",
      "(30, 'Neil Li')\n",
      "(31, 'Aaron Le')\n",
      "(32, 'Joo Kyeong Lee')\n",
      "(33, \"S'Thandiwe Kgoroge\")\n",
      "(34, 'Christine le Brocq')\n",
      "(35, 'Anthony Oseyemi')\n",
      "(36, 'Dalias Blake')\n",
      "(37, 'Sebelethu Bonkolo')\n",
      "(38, 'Hlubi Mboya')\n",
      "(39, 'Mary Twala')\n",
      "(40, 'Sam Medupe')\n",
      "(41, 'Charles Baloyi')\n",
      "(42, 'Senzo Vilakazi')\n",
      "(43, 'Akin Omotoso')\n",
      "(44, 'Walter Chukwu')\n",
      "(45, \"Abraham's Seed\")\n",
      "(46, 'Tessa Jubber')\n",
      "(47, 'Sivan Raphaely')\n",
      "(48, 'Gys de Villiers')\n",
      "(49, 'Toni Collette')\n",
      "(50, 'Chantal Herman')\n",
      "(51, 'Hannah Longworth')\n",
      "(52, 'Aiden Longworth')\n",
      "(53, 'Elizabeth McLaughlin')\n",
      "(54, 'Jordan Schartner')\n",
      "(55, 'Alexandra Doyle')\n",
      "(56, 'Kim Girschner')\n",
      "(57, 'Miroslav Karel')\n",
      "(58, 'Marcus Shakesheff')\n",
      "(59, 'Don Francks')\n",
      "(60, 'Caroline Semple')\n",
      "(61, 'Richard Romanus')\n",
      "(62, 'Susan Roman')\n",
      "(63, 'Al Waxman')\n",
      "(64, 'Harvey Atkin')\n",
      "(65, 'John Candy')\n",
      "(66, 'Glenis Wootton Gross')\n",
      "(67, 'Marilyn Lightstone')\n",
      "(68, 'Jackie Burroughs')\n",
      "(69, 'Martin Lavut')\n",
      "(70, 'August Schellenberg')\n",
      "(71, 'John Vernon')\n",
      "(72, 'Eugene Levy')\n",
      "(73, 'Joe Flaherty')\n",
      "(74, 'Rodger Bumpass')\n",
      "(75, 'Douglas Kenney')\n",
      "(76, 'George Touliatos')\n",
      "(77, 'Zal Yanovsky')\n",
      "(78, 'Patty Freedman')\n",
      "(79, 'Warren Munson')\n",
      "(80, 'Alice Playten')\n",
      "(81, 'Harold Ramis')\n",
      "(82, 'Vlasta Vrana')\n",
      "(83, 'Mavor Moore')\n",
      "(84, 'Thor Bishopric')\n",
      "(85, 'Len Doncheff')\n",
      "(86, 'Cedric Smith')\n",
      "(87, 'Joseph Golland')\n",
      "(88, 'Charles Jolliffe')\n",
      "(89, 'Ned Conlon')\n",
      "(90, 'Robby the Robot')\n",
      "(91, 'Percy Rodrigues')\n"
     ]
    }
   ],
   "source": [
    "cursor.execute(\" select *from cast\")\n",
    "for i in cursor:\n",
    "    print(i)"
   ]
  },
  {
   "cell_type": "code",
   "execution_count": 34,
   "metadata": {},
   "outputs": [
    {
     "name": "stdout",
     "output_type": "stream",
     "text": [
      "('tt1626146', 2)\n",
      "('tt1626146', 3)\n",
      "('tt1626146', 4)\n",
      "('tt1626146', 5)\n",
      "('tt1626146', 6)\n",
      "('tt1626146', 7)\n",
      "('tt1626146', 8)\n",
      "('tt1626146', 9)\n",
      "('tt1626146', 10)\n",
      "('tt1626146', 11)\n",
      "('tt1626146', 12)\n",
      "('tt1626146', 13)\n",
      "('tt1626146', 14)\n",
      "('tt1626146', 15)\n",
      "('tt1626146', 16)\n",
      "('tt1626146', 17)\n",
      "('tt1626146', 18)\n",
      "('tt1626146', 19)\n",
      "('tt1626146', 20)\n",
      "('tt1626146', 21)\n",
      "('tt1626146', 22)\n",
      "('tt1626146', 23)\n",
      "('tt1626146', 24)\n",
      "('tt1626146', 25)\n",
      "('tt1626146', 26)\n",
      "('tt1626146', 27)\n",
      "('tt1626146', 28)\n",
      "('tt1626146', 29)\n",
      "('tt1626146', 30)\n",
      "('tt1626146', 31)\n",
      "('tt1626146', 32)\n",
      "('tt1626146', 33)\n",
      "('tt1626146', 34)\n",
      "('tt1626146', 35)\n",
      "('tt1626146', 36)\n",
      "('tt1626146', 37)\n",
      "('tt1626146', 38)\n",
      "('tt1626146', 39)\n",
      "('tt1626146', 40)\n",
      "('tt1626146', 41)\n",
      "('tt1626146', 42)\n",
      "('tt1626146', 43)\n",
      "('tt1626146', 44)\n",
      "('tt1626146', 45)\n",
      "('tt1626146', 46)\n",
      "('tt1626146', 47)\n",
      "('tt1626146', 48)\n",
      "('tt1626146', 49)\n",
      "('tt1626146', 50)\n",
      "('tt1626146', 51)\n",
      "('tt1626146', 52)\n",
      "('tt1626146', 53)\n",
      "('tt1626146', 54)\n",
      "('tt1626146', 55)\n",
      "('tt1626146', 56)\n",
      "('tt1626146', 57)\n",
      "('tt1626146', 58)\n",
      "('tt0082509', 59)\n",
      "('tt0082509', 60)\n",
      "('tt0082509', 61)\n",
      "('tt0082509', 62)\n",
      "('tt0082509', 63)\n",
      "('tt0082509', 64)\n",
      "('tt0082509', 65)\n",
      "('tt0082509', 66)\n",
      "('tt0082509', 67)\n",
      "('tt0082509', 68)\n",
      "('tt0082509', 69)\n",
      "('tt0082509', 70)\n",
      "('tt0082509', 71)\n",
      "('tt0082509', 72)\n",
      "('tt0082509', 73)\n",
      "('tt0082509', 74)\n",
      "('tt0082509', 75)\n",
      "('tt0082509', 76)\n",
      "('tt0082509', 77)\n",
      "('tt0082509', 78)\n",
      "('tt0082509', 79)\n",
      "('tt0082509', 80)\n",
      "('tt0082509', 81)\n",
      "('tt0082509', 82)\n",
      "('tt0082509', 83)\n",
      "('tt0082509', 84)\n",
      "('tt0082509', 85)\n",
      "('tt0082509', 86)\n",
      "('tt0082509', 87)\n",
      "('tt0082509', 88)\n",
      "('tt0082509', 89)\n",
      "('tt0082509', 90)\n",
      "('tt0082509', 91)\n"
     ]
    }
   ],
   "source": [
    "cursor.execute(\" select *from movie_cast\")\n",
    "for i in cursor:\n",
    "    print(i)"
   ]
  },
  {
   "cell_type": "markdown",
   "metadata": {},
   "source": [
    "### inserting into genre and movie_genre table"
   ]
  },
  {
   "cell_type": "code",
   "execution_count": 36,
   "metadata": {},
   "outputs": [
    {
     "data": {
      "text/plain": [
       "'An astronaut brings home a glowing green orb for his daughter. However, the green orb wipes him out and corners the girl for its purposes. Claiming to embody ultimate evil, the malevolent sphere, known as the Loc-Nar, terrorizes the little girl by showing a series of bizarre and fantastic stories it has influenced. The first is &quot;Harry Canyon&quot;, a cynical taxi driver in a squalid futuristic New York who finds himself involved with a damsel in distress who is relentlessly pursued by murderous thugs who desire the Loc-Nar her archaeologist father found. The second is &quot;Den&quot;, which chronicles the adventures of a nerdish teenager who is thrown into the fantasy world of Neverwhere, where he is transformed into a handsome muscleman, desired by beautiful women, who must get involved in a conflict revolving around possession of the Loc-Nar. The third is &quot;Captain Sternn&quot;, where the title character is a handsome but irredeemable scoundrel who stands accused in a trial that the Loc-Nar throws into chaos. The fourth is &quot;B-17&quot;, where a World War II bomber plane limps home after a bombing run, only to have the Loc-Nar ram into it and revive the dead crew members as murderous zombies. The next is &quot;So Beautiful, So Dangerous&quot;, where a voluptuous secretary at the Pentagon is abducted by stoned alien wastrels and an oversexed robot. The final story is &quot;Taarna&quot;, where the Loc-Nar has to come to a future Earth and changes a peaceful people into a horde of murderous barbarians who rampage with genocidal zeal. Only the last Tarrakian, a silent warrior woman known as Taarna, can avenge the victims and stop the Loc-Nar.'"
      ]
     },
     "execution_count": 36,
     "metadata": {},
     "output_type": "execute_result"
    }
   ],
   "source": [
    "movie_a['summary']"
   ]
  },
  {
   "cell_type": "code",
   "execution_count": null,
   "metadata": {},
   "outputs": [],
   "source": [
    "cursor.execute(\"\"\"\n",
    "\n",
    "insert into summary (imdb_id, summary)\n",
    "values (?, ?)\n",
    "\n",
    "\"\"\", movie_a['imdb_code'], movie_a['summary'])"
   ]
  }
 ],
 "metadata": {
  "colab": {
   "authorship_tag": "ABX9TyPM/HnaCVtVTEiyxk/BWyVI",
   "collapsed_sections": [],
   "name": "yts api exploration.ipynb",
   "provenance": []
  },
  "kernelspec": {
   "display_name": "Python 3 (ipykernel)",
   "language": "python",
   "name": "python3"
  },
  "language_info": {
   "codemirror_mode": {
    "name": "ipython",
    "version": 3
   },
   "file_extension": ".py",
   "mimetype": "text/x-python",
   "name": "python",
   "nbconvert_exporter": "python",
   "pygments_lexer": "ipython3",
   "version": "3.9.7"
  },
  "vscode": {
   "interpreter": {
    "hash": "7b123d82fa6e0dffb906641240f8f50674d74cbd63896a6037868928f4236b99"
   }
  }
 },
 "nbformat": 4,
 "nbformat_minor": 1
}
