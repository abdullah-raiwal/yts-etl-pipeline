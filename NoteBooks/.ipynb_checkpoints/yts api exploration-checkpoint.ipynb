{
 "cells": [
  {
   "cell_type": "code",
   "execution_count": 1,
   "metadata": {
    "executionInfo": {
     "elapsed": 7,
     "status": "ok",
     "timestamp": 1650988092371,
     "user": {
      "displayName": "Muhammad Abdullah",
      "userId": "12957962707231034749"
     },
     "user_tz": -300
    },
    "id": "Ok34tKJ_Vu4H"
   },
   "outputs": [],
   "source": [
    "import pandas as pd\n",
    "import requests\n",
    "from datetime import datetime\n",
    "import json\n",
    "import os\n",
    "from dateutil import parser\n",
    "import collections"
   ]
  },
  {
   "cell_type": "markdown",
   "metadata": {
    "id": "WEdS2D5LjI32"
   },
   "source": [
    "The following code helps to determine whether new data is inserted in api database or not, if so then we have to pull new movies data and put that in database and update tracking parameters. "
   ]
  },
  {
   "cell_type": "code",
   "execution_count": 2,
   "metadata": {
    "colab": {
     "base_uri": "https://localhost:8080/"
    },
    "executionInfo": {
     "elapsed": 15,
     "status": "ok",
     "timestamp": 1650904506940,
     "user": {
      "displayName": "Muhammad Abdullah",
      "userId": "12957962707231034749"
     },
     "user_tz": -300
    },
    "id": "VLW0wQJXgACi",
    "outputId": "8b01bde6-693e-4a1b-ada1-25987bf7a9e6"
   },
   "outputs": [],
   "source": [
    "last_page =  requests.get('https://yts.torrentbay.to/api/v2/list_movies.json?page=821&limit=50').json()\n",
    "first_page = requests.get('https://yts.torrentbay.to/api/v2/list_movies.json?page=1&limit=50').json()"
   ]
  },
  {
   "cell_type": "code",
   "execution_count": 4,
   "metadata": {},
   "outputs": [],
   "source": [
    "movie_a = last_page['data']['movies'][1]"
   ]
  },
  {
   "cell_type": "code",
   "execution_count": 5,
   "metadata": {},
   "outputs": [
    {
     "data": {
      "text/plain": [
       "{'id': 1364,\n",
       " 'url': 'https://yts.torrentbay.to/movies/gregorys-girl-1980',\n",
       " 'imdb_code': 'tt0082477',\n",
       " 'title': \"Gregory's Girl\",\n",
       " 'title_english': \"Gregory's Girl\",\n",
       " 'title_long': \"Gregory's Girl (1980)\",\n",
       " 'slug': 'gregorys-girl-1980',\n",
       " 'year': 1980,\n",
       " 'rating': 7.1,\n",
       " 'runtime': 91,\n",
       " 'genres': ['Action', 'Comedy', 'Drama', 'Romance'],\n",
       " 'summary': 'Gregory is an awkward, gangly Scottish 16-year-old in the midst of puberty. The object of his affection is Dorothy, in part because she is a talented striker who took his place on their school&#39;s boys&#39; football team, demoting him to distracted goalkeeper. He tries to insinuate himself into her life as much as possible through her interests, such as learning Italian, without directly telling her that he likes her. Gregory&#39;s male friends are no help in advising him on how to get into a relationship with Dorothy. The only person in whom he confides that provides any constructive advice is his 10-year-old sister Madeline. When Gregory finally works up the nerve to ask Dorothy out, he doesn&#39;t get the answer he expects. He learns that Dorothy talks to her girl friends about such issues as much as Gregory does with his friends, each side strategizing to their own desired end.',\n",
       " 'description_full': 'Gregory is an awkward, gangly Scottish 16-year-old in the midst of puberty. The object of his affection is Dorothy, in part because she is a talented striker who took his place on their school&#39;s boys&#39; football team, demoting him to distracted goalkeeper. He tries to insinuate himself into her life as much as possible through her interests, such as learning Italian, without directly telling her that he likes her. Gregory&#39;s male friends are no help in advising him on how to get into a relationship with Dorothy. The only person in whom he confides that provides any constructive advice is his 10-year-old sister Madeline. When Gregory finally works up the nerve to ask Dorothy out, he doesn&#39;t get the answer he expects. He learns that Dorothy talks to her girl friends about such issues as much as Gregory does with his friends, each side strategizing to their own desired end.',\n",
       " 'synopsis': 'Gregory is an awkward, gangly Scottish 16-year-old in the midst of puberty. The object of his affection is Dorothy, in part because she is a talented striker who took his place on their school&#39;s boys&#39; football team, demoting him to distracted goalkeeper. He tries to insinuate himself into her life as much as possible through her interests, such as learning Italian, without directly telling her that he likes her. Gregory&#39;s male friends are no help in advising him on how to get into a relationship with Dorothy. The only person in whom he confides that provides any constructive advice is his 10-year-old sister Madeline. When Gregory finally works up the nerve to ask Dorothy out, he doesn&#39;t get the answer he expects. He learns that Dorothy talks to her girl friends about such issues as much as Gregory does with his friends, each side strategizing to their own desired end.',\n",
       " 'yt_trailer_code': 'ikFeznmXScY',\n",
       " 'language': 'en',\n",
       " 'mpa_rating': '',\n",
       " 'background_image': 'https://yts.torrentbay.to/assets/images/movies/Gregorys_Girl_1981/background.jpg',\n",
       " 'background_image_original': 'https://yts.torrentbay.to/assets/images/movies/Gregorys_Girl_1981/background.jpg',\n",
       " 'small_cover_image': 'https://yts.torrentbay.to/assets/images/movies/Gregorys_Girl_1981/small-cover.jpg',\n",
       " 'medium_cover_image': 'https://yts.torrentbay.to/assets/images/movies/Gregorys_Girl_1981/medium-cover.jpg?v=91',\n",
       " 'large_cover_image': 'https://yts.torrentbay.to/assets/images/movies/Gregorys_Girl_1981/large-cover.jpg',\n",
       " 'state': 'ok',\n",
       " 'torrents': [{'url': 'https://yts.torrentbay.to/torrent/download/DC18DECEB7BB0E5DE6B2EE41EC94F7043A708BDB',\n",
       "   'hash': 'DC18DECEB7BB0E5DE6B2EE41EC94F7043A708BDB',\n",
       "   'quality': '720p',\n",
       "   'type': 'bluray',\n",
       "   'seeds': 0,\n",
       "   'peers': 1,\n",
       "   'size': '745.39 MB',\n",
       "   'size_bytes': 781598065,\n",
       "   'date_uploaded': '2015-10-31 23:45:58',\n",
       "   'date_uploaded_unix': 1446331558},\n",
       "  {'url': 'https://yts.torrentbay.to/torrent/download/04C056E08D8A6F5368D96941D46AFB4F1E050598',\n",
       "   'hash': '04C056E08D8A6F5368D96941D46AFB4F1E050598',\n",
       "   'quality': '1080p',\n",
       "   'type': 'bluray',\n",
       "   'seeds': 2,\n",
       "   'peers': 1,\n",
       "   'size': '1.42 GB',\n",
       "   'size_bytes': 1524713390,\n",
       "   'date_uploaded': '2015-10-31 23:46:00',\n",
       "   'date_uploaded_unix': 1446331560}],\n",
       " 'date_uploaded': '2015-10-31 23:45:58',\n",
       " 'date_uploaded_unix': 1446331558}"
      ]
     },
     "execution_count": 5,
     "metadata": {},
     "output_type": "execute_result"
    }
   ],
   "source": [
    "movie_a"
   ]
  },
  {
   "cell_type": "code",
   "execution_count": null,
   "metadata": {},
   "outputs": [],
   "source": [
    "movie_a['genres']"
   ]
  },
  {
   "cell_type": "code",
   "execution_count": null,
   "metadata": {},
   "outputs": [],
   "source": [
    "ids = [41763,41713]\n",
    "ids"
   ]
  },
  {
   "cell_type": "code",
   "execution_count": null,
   "metadata": {},
   "outputs": [],
   "source": [
    "def check_new_movies(ids:list):\n",
    "\n",
    "    page_number = 1\n",
    "    movies_list = []\n",
    "    while True:\n",
    "        init_page = requests.get(f'https://yts.torrentbay.to/api/v2/list_movies.json?page={page_number}&limit=50').json()\n",
    "\n",
    "        current_ids = [init_page['data']['movies'][0]['id'],init_page['data']['movies'][-1]['id']]\n",
    "\n",
    "        if current_ids > ids:\n",
    "            for movie in init_page['data']['movies']:\n",
    "                movies_list.append(movie['title'])\n",
    "        \n",
    "            page_number = page_number + 1\n",
    "\n",
    "        else:\n",
    "            break\n",
    "\n",
    "    return movies_list"
   ]
  },
  {
   "cell_type": "code",
   "execution_count": null,
   "metadata": {},
   "outputs": [],
   "source": [
    "mov_list = check_new_movies(ids)"
   ]
  },
  {
   "cell_type": "code",
   "execution_count": null,
   "metadata": {},
   "outputs": [],
   "source": [
    "for movie in first_page['data']['movies']:\n",
    "    print(movie)"
   ]
  },
  {
   "cell_type": "markdown",
   "metadata": {},
   "source": [
    "Below code is for extracting movie cast based on \"IMDB code\""
   ]
  },
  {
   "cell_type": "code",
   "execution_count": 18,
   "metadata": {},
   "outputs": [],
   "source": [
    "import requests\n",
    "from bs4 import BeautifulSoup\n",
    "import re\n",
    "import time"
   ]
  },
  {
   "cell_type": "markdown",
   "metadata": {},
   "source": [
    "## method to get cast list of given imdb movie id"
   ]
  },
  {
   "cell_type": "code",
   "execution_count": 19,
   "metadata": {},
   "outputs": [],
   "source": [
    "def get_cast(imdb_id : str):\n",
    "    \n",
    "    url = f'https://www.imdb.com/title/{imdb_id}/fullcredits'\n",
    "    page = requests.get(url)\n",
    "    soup = BeautifulSoup(page.content, 'html.parser')\n",
    "    table = soup.find('table', attrs={'class' : 'cast_list'})\n",
    "    cast = table.find_all('a')   \n",
    "    \n",
    "    return re.findall(r'title=\"(.*?)\"', str(cast))"
   ]
  },
  {
   "cell_type": "markdown",
   "metadata": {},
   "source": [
    "###  The following data needed to be pulled from api response and put in warehouse\n",
    "#### : imdb_code -> unique movie code given by IMDB\n",
    "#### : title_long -> full movie title with year\n",
    "#### : year -> released year\n",
    "#### : rating -> movie rating (1-10)\n",
    "#### : runtime -> in minutes\n",
    "#### : genres -> can be one or more\n",
    "#### : summary -> summary of movie\n",
    "#### : cast -> need to scrape from IMDB\n",
    "#### : mpa_rating -> movie sensorship rating\n",
    "#### : language -> can be one or more"
   ]
  },
  {
   "cell_type": "code",
   "execution_count": 6,
   "metadata": {},
   "outputs": [
    {
     "data": {
      "text/plain": [
       "('tt0082477',\n",
       " \"Gregory's Girl (1980)\",\n",
       " 1980,\n",
       " 7.1,\n",
       " 91,\n",
       " ['Action', 'Comedy', 'Drama', 'Romance'],\n",
       " '',\n",
       " 'en')"
      ]
     },
     "execution_count": 6,
     "metadata": {},
     "output_type": "execute_result"
    }
   ],
   "source": [
    "movie_a['imdb_code'], movie_a['title_long'], movie_a['year'], movie_a['rating'], movie_a['runtime'], (movie_a['genres']), movie_a['mpa_rating'], movie_a['language']"
   ]
  },
  {
   "cell_type": "markdown",
   "metadata": {},
   "source": [
    "Here is the main problem, as movie has multiple genres, we need to figure out how to insert genres without repetation.\n",
    "First we need to insert \"imdb_code\" and \"movie_title\" in movies table. Then we have to check that genre exists in genre table, if so then we can skip, else insert it."
   ]
  },
  {
   "cell_type": "code",
   "execution_count": 26,
   "metadata": {},
   "outputs": [],
   "source": [
    "import pyodbc"
   ]
  },
  {
   "cell_type": "code",
   "execution_count": 27,
   "metadata": {},
   "outputs": [],
   "source": [
    "conn = pyodbc.connect('Driver={SQL Server};'\n",
    "                      'Server=DESKTOP-K8VV6KV;'\n",
    "                      'Database=yts_warehouse;'\n",
    "                      'Trusted_Connection=yes;')"
   ]
  },
  {
   "cell_type": "code",
   "execution_count": 56,
   "metadata": {},
   "outputs": [],
   "source": [
    "cursor = conn.cursor()"
   ]
  },
  {
   "cell_type": "markdown",
   "metadata": {},
   "source": [
    "### inserting into movie table"
   ]
  },
  {
   "cell_type": "code",
   "execution_count": 51,
   "metadata": {},
   "outputs": [
    {
     "data": {
      "text/plain": [
       "<pyodbc.Cursor at 0x24abc82bab0>"
      ]
     },
     "execution_count": 51,
     "metadata": {},
     "output_type": "execute_result"
    }
   ],
   "source": [
    "cursor.execute(\"\"\"\n",
    "insert into movies (imdb_id, title, year, rating, runtime, mpa_rating, language, date_uploaded)\n",
    "VALUES (?,?,?,?,?,?,?,?)\n",
    "\"\"\",\n",
    "movie_a['imdb_code'], movie_a['title_long'], movie_a['year'],movie_a['rating'], movie_a['runtime'], movie_a['mpa_rating'], movie_a['language'], movie_a['date_uploaded']              \n",
    "              )"
   ]
  },
  {
   "cell_type": "markdown",
   "metadata": {},
   "source": [
    "### inserting into genre table"
   ]
  },
  {
   "cell_type": "code",
   "execution_count": 66,
   "metadata": {},
   "outputs": [
    {
     "ename": "ProgrammingError",
     "evalue": "('42S02', \"[42S02] [Microsoft][ODBC SQL Server Driver][SQL Server]Invalid object name 'genres'. (208) (SQLExecDirectW); [42S02] [Microsoft][ODBC SQL Server Driver][SQL Server]Statement(s) could not be prepared. (8180)\")",
     "output_type": "error",
     "traceback": [
      "\u001b[1;31m---------------------------------------------------------------------------\u001b[0m",
      "\u001b[1;31mProgrammingError\u001b[0m                          Traceback (most recent call last)",
      "\u001b[1;32m~\\AppData\\Local\\Temp/ipykernel_6464/840125820.py\u001b[0m in \u001b[0;36m<module>\u001b[1;34m\u001b[0m\n\u001b[0;32m      1\u001b[0m \u001b[1;32mfor\u001b[0m \u001b[0mgenre\u001b[0m \u001b[1;32min\u001b[0m \u001b[0mmovie_a\u001b[0m\u001b[1;33m[\u001b[0m\u001b[1;34m'genres'\u001b[0m\u001b[1;33m]\u001b[0m\u001b[1;33m:\u001b[0m\u001b[1;33m\u001b[0m\u001b[1;33m\u001b[0m\u001b[0m\n\u001b[1;32m----> 2\u001b[1;33m     cursor.execute(\"\"\"\n\u001b[0m\u001b[0;32m      3\u001b[0m \u001b[1;33m\u001b[0m\u001b[0m\n\u001b[0;32m      4\u001b[0m \u001b[1;33m\u001b[0m\u001b[0m\n\u001b[0;32m      5\u001b[0m             if not exists (\n",
      "\u001b[1;31mProgrammingError\u001b[0m: ('42S02', \"[42S02] [Microsoft][ODBC SQL Server Driver][SQL Server]Invalid object name 'genres'. (208) (SQLExecDirectW); [42S02] [Microsoft][ODBC SQL Server Driver][SQL Server]Statement(s) could not be prepared. (8180)\")"
     ]
    }
   ],
   "source": [
    "for genre in movie_a['genres']:\n",
    "    cursor.execute(\"\"\"\n",
    "    \n",
    "               \n",
    "            if not exists (\n",
    "            select * from genres\n",
    "            where genre_title = ?\n",
    "            )\n",
    "            begin\n",
    "                insert into genres values(?)\n",
    "            end      \n",
    "    \"\"\", genre, genre)"
   ]
  },
  {
   "cell_type": "code",
   "execution_count": null,
   "metadata": {},
   "outputs": [],
   "source": []
  },
  {
   "cell_type": "code",
   "execution_count": null,
   "metadata": {},
   "outputs": [],
   "source": []
  }
 ],
 "metadata": {
  "colab": {
   "authorship_tag": "ABX9TyPM/HnaCVtVTEiyxk/BWyVI",
   "collapsed_sections": [],
   "name": "yts api exploration.ipynb",
   "provenance": []
  },
  "kernelspec": {
   "display_name": "Python 3 (ipykernel)",
   "language": "python",
   "name": "python3"
  },
  "language_info": {
   "codemirror_mode": {
    "name": "ipython",
    "version": 3
   },
   "file_extension": ".py",
   "mimetype": "text/x-python",
   "name": "python",
   "nbconvert_exporter": "python",
   "pygments_lexer": "ipython3",
   "version": "3.9.7"
  },
  "vscode": {
   "interpreter": {
    "hash": "7b123d82fa6e0dffb906641240f8f50674d74cbd63896a6037868928f4236b99"
   }
  }
 },
 "nbformat": 4,
 "nbformat_minor": 1
}
