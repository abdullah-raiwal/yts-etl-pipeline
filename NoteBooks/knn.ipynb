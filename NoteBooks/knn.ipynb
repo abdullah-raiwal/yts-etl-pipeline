{
 "cells": [
  {
   "cell_type": "code",
   "execution_count": 25,
   "id": "225f595d",
   "metadata": {},
   "outputs": [],
   "source": [
    "import pandas as pd\n",
    "import matplotlib.pyplot as plt\n",
    "from sklearn.cluster import KMeans\n",
    "import time\n",
    "from sklearn.decomposition import PCA"
   ]
  },
  {
   "cell_type": "code",
   "execution_count": 3,
   "id": "5637d494",
   "metadata": {},
   "outputs": [
    {
     "data": {
      "text/html": [
       "<div>\n",
       "<style scoped>\n",
       "    .dataframe tbody tr th:only-of-type {\n",
       "        vertical-align: middle;\n",
       "    }\n",
       "\n",
       "    .dataframe tbody tr th {\n",
       "        vertical-align: top;\n",
       "    }\n",
       "\n",
       "    .dataframe thead th {\n",
       "        text-align: right;\n",
       "    }\n",
       "</style>\n",
       "<table border=\"1\" class=\"dataframe\">\n",
       "  <thead>\n",
       "    <tr style=\"text-align: right;\">\n",
       "      <th></th>\n",
       "      <th>CustomerID</th>\n",
       "      <th>Genre</th>\n",
       "      <th>Age</th>\n",
       "      <th>Annual Income (k$)</th>\n",
       "      <th>Spending Score (1-100)</th>\n",
       "    </tr>\n",
       "  </thead>\n",
       "  <tbody>\n",
       "    <tr>\n",
       "      <th>0</th>\n",
       "      <td>1</td>\n",
       "      <td>Male</td>\n",
       "      <td>19</td>\n",
       "      <td>15</td>\n",
       "      <td>39</td>\n",
       "    </tr>\n",
       "    <tr>\n",
       "      <th>1</th>\n",
       "      <td>2</td>\n",
       "      <td>Male</td>\n",
       "      <td>21</td>\n",
       "      <td>15</td>\n",
       "      <td>81</td>\n",
       "    </tr>\n",
       "    <tr>\n",
       "      <th>2</th>\n",
       "      <td>3</td>\n",
       "      <td>Female</td>\n",
       "      <td>20</td>\n",
       "      <td>16</td>\n",
       "      <td>6</td>\n",
       "    </tr>\n",
       "    <tr>\n",
       "      <th>3</th>\n",
       "      <td>4</td>\n",
       "      <td>Female</td>\n",
       "      <td>23</td>\n",
       "      <td>16</td>\n",
       "      <td>77</td>\n",
       "    </tr>\n",
       "    <tr>\n",
       "      <th>4</th>\n",
       "      <td>5</td>\n",
       "      <td>Female</td>\n",
       "      <td>31</td>\n",
       "      <td>17</td>\n",
       "      <td>40</td>\n",
       "    </tr>\n",
       "  </tbody>\n",
       "</table>\n",
       "</div>"
      ],
      "text/plain": [
       "   CustomerID   Genre  Age  Annual Income (k$)  Spending Score (1-100)\n",
       "0           1    Male   19                  15                      39\n",
       "1           2    Male   21                  15                      81\n",
       "2           3  Female   20                  16                       6\n",
       "3           4  Female   23                  16                      77\n",
       "4           5  Female   31                  17                      40"
      ]
     },
     "execution_count": 3,
     "metadata": {},
     "output_type": "execute_result"
    }
   ],
   "source": [
    "df = pd.read_csv('../Mall_Customers.csv')\n",
    "df.head()"
   ]
  },
  {
   "cell_type": "code",
   "execution_count": 6,
   "id": "a3356f59",
   "metadata": {},
   "outputs": [
    {
     "data": {
      "image/png": "[encoded data removed]",
      "text/plain": [
       "<Figure size 432x288 with 1 Axes>"
      ]
     },
     "metadata": {
      "needs_background": "light"
     },
     "output_type": "display_data"
    }
   ],
   "source": [
    "plt.scatter(x=df['Annual Income (k$)'], y = df['Spending Score (1-100)']);"
   ]
  },
  {
   "cell_type": "code",
   "execution_count": 7,
   "id": "c5478ba3",
   "metadata": {},
   "outputs": [],
   "source": [
    "X = df.iloc[:, [3,4]].values"
   ]
  },
  {
   "cell_type": "code",
   "execution_count": 11,
   "id": "287feadc",
   "metadata": {},
   "outputs": [
    {
     "name": "stderr",
     "output_type": "stream",
     "text": [
      "C:\\Users\\Abdullah\\anaconda3\\lib\\site-packages\\sklearn\\cluster\\_kmeans.py:1332: UserWarning: KMeans is known to have a memory leak on Windows with MKL, when there are less chunks than available threads. You can avoid it by setting the environment variable OMP_NUM_THREADS=1.\n",
      "  warnings.warn(\n",
      "C:\\Users\\Abdullah\\anaconda3\\lib\\site-packages\\sklearn\\cluster\\_kmeans.py:1332: UserWarning: KMeans is known to have a memory leak on Windows with MKL, when there are less chunks than available threads. You can avoid it by setting the environment variable OMP_NUM_THREADS=1.\n",
      "  warnings.warn(\n",
      "C:\\Users\\Abdullah\\anaconda3\\lib\\site-packages\\sklearn\\cluster\\_kmeans.py:1332: UserWarning: KMeans is known to have a memory leak on Windows with MKL, when there are less chunks than available threads. You can avoid it by setting the environment variable OMP_NUM_THREADS=1.\n",
      "  warnings.warn(\n",
      "C:\\Users\\Abdullah\\anaconda3\\lib\\site-packages\\sklearn\\cluster\\_kmeans.py:1332: UserWarning: KMeans is known to have a memory leak on Windows with MKL, when there are less chunks than available threads. You can avoid it by setting the environment variable OMP_NUM_THREADS=1.\n",
      "  warnings.warn(\n",
      "C:\\Users\\Abdullah\\anaconda3\\lib\\site-packages\\sklearn\\cluster\\_kmeans.py:1332: UserWarning: KMeans is known to have a memory leak on Windows with MKL, when there are less chunks than available threads. You can avoid it by setting the environment variable OMP_NUM_THREADS=1.\n",
      "  warnings.warn(\n",
      "C:\\Users\\Abdullah\\anaconda3\\lib\\site-packages\\sklearn\\cluster\\_kmeans.py:1332: UserWarning: KMeans is known to have a memory leak on Windows with MKL, when there are less chunks than available threads. You can avoid it by setting the environment variable OMP_NUM_THREADS=1.\n",
      "  warnings.warn(\n",
      "C:\\Users\\Abdullah\\anaconda3\\lib\\site-packages\\sklearn\\cluster\\_kmeans.py:1332: UserWarning: KMeans is known to have a memory leak on Windows with MKL, when there are less chunks than available threads. You can avoid it by setting the environment variable OMP_NUM_THREADS=1.\n",
      "  warnings.warn(\n",
      "C:\\Users\\Abdullah\\anaconda3\\lib\\site-packages\\sklearn\\cluster\\_kmeans.py:1332: UserWarning: KMeans is known to have a memory leak on Windows with MKL, when there are less chunks than available threads. You can avoid it by setting the environment variable OMP_NUM_THREADS=1.\n",
      "  warnings.warn(\n",
      "C:\\Users\\Abdullah\\anaconda3\\lib\\site-packages\\sklearn\\cluster\\_kmeans.py:1332: UserWarning: KMeans is known to have a memory leak on Windows with MKL, when there are less chunks than available threads. You can avoid it by setting the environment variable OMP_NUM_THREADS=1.\n",
      "  warnings.warn(\n",
      "C:\\Users\\Abdullah\\anaconda3\\lib\\site-packages\\sklearn\\cluster\\_kmeans.py:1332: UserWarning: KMeans is known to have a memory leak on Windows with MKL, when there are less chunks than available threads. You can avoid it by setting the environment variable OMP_NUM_THREADS=1.\n",
      "  warnings.warn(\n"
     ]
    },
    {
     "name": "stdout",
     "output_type": "stream",
     "text": [
      "Wall time: 15.5 s\n"
     ]
    }
   ],
   "source": [
    "%%time\n",
    "wcss = []\n",
    "for i in range(1, 11):\n",
    "    kmeans = KMeans(n_clusters=i, init = 'k-means++')\n",
    "    kmeans.fit(X)\n",
    "    wcss.append(kmeans.inertia_)"
   ]
  },
  {
   "cell_type": "code",
   "execution_count": 13,
   "id": "31fcb358",
   "metadata": {},
   "outputs": [
    {
     "data": {
      "image/png": "[encoded data removed]",
      "text/plain": [
       "<Figure size 432x288 with 1 Axes>"
      ]
     },
     "metadata": {
      "needs_background": "light"
     },
     "output_type": "display_data"
    }
   ],
   "source": [
    "plt.plot(range(1, 11), wcss);"
   ]
  },
  {
   "cell_type": "code",
   "execution_count": 16,
   "id": "a78beacb",
   "metadata": {},
   "outputs": [
    {
     "name": "stderr",
     "output_type": "stream",
     "text": [
      "C:\\Users\\Abdullah\\anaconda3\\lib\\site-packages\\sklearn\\cluster\\_kmeans.py:1332: UserWarning: KMeans is known to have a memory leak on Windows with MKL, when there are less chunks than available threads. You can avoid it by setting the environment variable OMP_NUM_THREADS=1.\n",
      "  warnings.warn(\n"
     ]
    }
   ],
   "source": [
    "kmeans = KMeans(n_clusters=5, init = 'k-means++')\n",
    "y = kmeans.fit_predict(X)"
   ]
  },
  {
   "cell_type": "code",
   "execution_count": 20,
   "id": "dc184f2d",
   "metadata": {},
   "outputs": [
    {
     "data": {
      "text/plain": [
       "200"
      ]
     },
     "execution_count": 20,
     "metadata": {},
     "output_type": "execute_result"
    }
   ],
   "source": [
    "len(y)"
   ]
  },
  {
   "cell_type": "code",
   "execution_count": 21,
   "id": "d69372b3",
   "metadata": {},
   "outputs": [],
   "source": [
    "df['cluster'] = y"
   ]
  },
  {
   "cell_type": "code",
   "execution_count": 22,
   "id": "547ece0a",
   "metadata": {},
   "outputs": [
    {
     "data": {
      "text/html": [
       "<div>\n",
       "<style scoped>\n",
       "    .dataframe tbody tr th:only-of-type {\n",
       "        vertical-align: middle;\n",
       "    }\n",
       "\n",
       "    .dataframe tbody tr th {\n",
       "        vertical-align: top;\n",
       "    }\n",
       "\n",
       "    .dataframe thead th {\n",
       "        text-align: right;\n",
       "    }\n",
       "</style>\n",
       "<table border=\"1\" class=\"dataframe\">\n",
       "  <thead>\n",
       "    <tr style=\"text-align: right;\">\n",
       "      <th></th>\n",
       "      <th>CustomerID</th>\n",
       "      <th>Genre</th>\n",
       "      <th>Age</th>\n",
       "      <th>Annual Income (k$)</th>\n",
       "      <th>Spending Score (1-100)</th>\n",
       "      <th>cluster</th>\n",
       "    </tr>\n",
       "  </thead>\n",
       "  <tbody>\n",
       "    <tr>\n",
       "      <th>0</th>\n",
       "      <td>1</td>\n",
       "      <td>Male</td>\n",
       "      <td>19</td>\n",
       "      <td>15</td>\n",
       "      <td>39</td>\n",
       "      <td>2</td>\n",
       "    </tr>\n",
       "    <tr>\n",
       "      <th>1</th>\n",
       "      <td>2</td>\n",
       "      <td>Male</td>\n",
       "      <td>21</td>\n",
       "      <td>15</td>\n",
       "      <td>81</td>\n",
       "      <td>3</td>\n",
       "    </tr>\n",
       "    <tr>\n",
       "      <th>2</th>\n",
       "      <td>3</td>\n",
       "      <td>Female</td>\n",
       "      <td>20</td>\n",
       "      <td>16</td>\n",
       "      <td>6</td>\n",
       "      <td>2</td>\n",
       "    </tr>\n",
       "    <tr>\n",
       "      <th>3</th>\n",
       "      <td>4</td>\n",
       "      <td>Female</td>\n",
       "      <td>23</td>\n",
       "      <td>16</td>\n",
       "      <td>77</td>\n",
       "      <td>3</td>\n",
       "    </tr>\n",
       "    <tr>\n",
       "      <th>4</th>\n",
       "      <td>5</td>\n",
       "      <td>Female</td>\n",
       "      <td>31</td>\n",
       "      <td>17</td>\n",
       "      <td>40</td>\n",
       "      <td>2</td>\n",
       "    </tr>\n",
       "    <tr>\n",
       "      <th>...</th>\n",
       "      <td>...</td>\n",
       "      <td>...</td>\n",
       "      <td>...</td>\n",
       "      <td>...</td>\n",
       "      <td>...</td>\n",
       "      <td>...</td>\n",
       "    </tr>\n",
       "    <tr>\n",
       "      <th>195</th>\n",
       "      <td>196</td>\n",
       "      <td>Female</td>\n",
       "      <td>35</td>\n",
       "      <td>120</td>\n",
       "      <td>79</td>\n",
       "      <td>1</td>\n",
       "    </tr>\n",
       "    <tr>\n",
       "      <th>196</th>\n",
       "      <td>197</td>\n",
       "      <td>Female</td>\n",
       "      <td>45</td>\n",
       "      <td>126</td>\n",
       "      <td>28</td>\n",
       "      <td>4</td>\n",
       "    </tr>\n",
       "    <tr>\n",
       "      <th>197</th>\n",
       "      <td>198</td>\n",
       "      <td>Male</td>\n",
       "      <td>32</td>\n",
       "      <td>126</td>\n",
       "      <td>74</td>\n",
       "      <td>1</td>\n",
       "    </tr>\n",
       "    <tr>\n",
       "      <th>198</th>\n",
       "      <td>199</td>\n",
       "      <td>Male</td>\n",
       "      <td>32</td>\n",
       "      <td>137</td>\n",
       "      <td>18</td>\n",
       "      <td>4</td>\n",
       "    </tr>\n",
       "    <tr>\n",
       "      <th>199</th>\n",
       "      <td>200</td>\n",
       "      <td>Male</td>\n",
       "      <td>30</td>\n",
       "      <td>137</td>\n",
       "      <td>83</td>\n",
       "      <td>1</td>\n",
       "    </tr>\n",
       "  </tbody>\n",
       "</table>\n",
       "<p>200 rows × 6 columns</p>\n",
       "</div>"
      ],
      "text/plain": [
       "     CustomerID   Genre  Age  Annual Income (k$)  Spending Score (1-100)  \\\n",
       "0             1    Male   19                  15                      39   \n",
       "1             2    Male   21                  15                      81   \n",
       "2             3  Female   20                  16                       6   \n",
       "3             4  Female   23                  16                      77   \n",
       "4             5  Female   31                  17                      40   \n",
       "..          ...     ...  ...                 ...                     ...   \n",
       "195         196  Female   35                 120                      79   \n",
       "196         197  Female   45                 126                      28   \n",
       "197         198    Male   32                 126                      74   \n",
       "198         199    Male   32                 137                      18   \n",
       "199         200    Male   30                 137                      83   \n",
       "\n",
       "     cluster  \n",
       "0          2  \n",
       "1          3  \n",
       "2          2  \n",
       "3          3  \n",
       "4          2  \n",
       "..       ...  \n",
       "195        1  \n",
       "196        4  \n",
       "197        1  \n",
       "198        4  \n",
       "199        1  \n",
       "\n",
       "[200 rows x 6 columns]"
      ]
     },
     "execution_count": 22,
     "metadata": {},
     "output_type": "execute_result"
    }
   ],
   "source": [
    "df"
   ]
  },
  {
   "cell_type": "code",
   "execution_count": 24,
   "id": "cea3e74d",
   "metadata": {},
   "outputs": [
    {
     "data": {
      "image/png": "[encoded data removed]",
      "text/plain": [
       "<Figure size 432x288 with 1 Axes>"
      ]
     },
     "metadata": {
      "needs_background": "light"
     },
     "output_type": "display_data"
    }
   ],
   "source": [
    "plt.scatter(df['Annual Income (k$)'], df['Spending Score (1-100)'], c=df['cluster'].astype('category').cat.codes);"
   ]
  },
  {
   "cell_type": "code",
   "execution_count": 26,
   "id": "ad6c8435",
   "metadata": {},
   "outputs": [],
   "source": [
    "pca = PCA(n_components=2)"
   ]
  },
  {
   "cell_type": "code",
   "execution_count": 30,
   "id": "78b24819",
   "metadata": {},
   "outputs": [],
   "source": [
    "X_reduced = pca.fit_transform(df.iloc[:, [2,3,4]])"
   ]
  },
  {
   "cell_type": "code",
   "execution_count": 31,
   "id": "be52b0bf",
   "metadata": {},
   "outputs": [
    {
     "data": {
      "text/plain": [
       "array([[-3.18705078e+01, -3.30014253e+01],\n",
       "       [ 7.63396908e-01, -5.68438653e+01],\n",
       "       [-5.74087256e+01, -1.31229362e+01],\n",
       "       [-2.16989648e+00, -5.34779049e+01],\n",
       "       [-3.21749197e+01, -3.03870050e+01],\n",
       "       [-2.17827777e+00, -5.22265808e+01],\n",
       "       [-5.90660565e+01, -9.54170669e+00],\n",
       "       [ 1.23693261e+01, -6.16176843e+01],\n",
       "       [-6.63156568e+01, -3.21359934e+00],\n",
       "       [-5.65677534e+00, -4.72664534e+01],\n",
       "       [-5.82366179e+01, -9.13375312e+00],\n",
       "       [ 1.46202592e+01, -6.21072940e+01],\n",
       "       [-5.51612126e+01, -1.00779778e+01],\n",
       "       [-4.30660584e-03, -5.01134367e+01],\n",
       "       [-5.27647474e+01, -1.16804199e+01],\n",
       "       [ 1.94563480e+00, -5.15231943e+01],\n",
       "       [-3.45062349e+01, -2.37600734e+01],\n",
       "       [-7.30573032e+00, -4.35158724e+01],\n",
       "       [-4.12574933e+01, -1.64734320e+01],\n",
       "       [ 1.61888268e+01, -5.82998775e+01],\n",
       "       [-3.27403118e+01, -2.13349462e+01],\n",
       "       [-9.82702739e-01, -4.44533143e+01],\n",
       "       [-5.78102821e+01, -1.86854579e+00],\n",
       "       [-1.52790692e+00, -4.28591474e+01],\n",
       "       [-5.04821841e+01, -3.56091922e+00],\n",
       "       [ 7.68993306e+00, -4.58611728e+01],\n",
       "       [-3.46334793e+01, -1.50700505e+01],\n",
       "       [-9.94983869e+00, -3.30231964e+01],\n",
       "       [-3.38859638e+01, -1.43425872e+01],\n",
       "       [ 1.33424018e+01, -4.87081562e+01],\n",
       "       [-5.82987123e+01,  4.58075927e+00],\n",
       "       [ 3.30504018e+00, -4.01269208e+01],\n",
       "       [-5.52099698e+01,  6.08913003e+00],\n",
       "       [ 2.05718194e+01, -4.89990472e+01],\n",
       "       [-4.65941080e+01, -1.73866592e-01],\n",
       "       [ 1.13589353e+01, -4.22931022e+01],\n",
       "       [-4.23246581e+01, -2.00398803e+00],\n",
       "       [ 3.95883646e+00, -3.57147310e+01],\n",
       "       [-3.23509213e+01, -5.52987430e+00],\n",
       "       [ 9.18649452e+00, -3.57470830e+01],\n",
       "       [-3.01685636e+01, -6.08872992e+00],\n",
       "       [ 2.23811793e+01, -4.41713774e+01],\n",
       "       [-2.55813646e+01, -8.08067622e+00],\n",
       "       [-2.71889068e+00, -2.46549242e+01],\n",
       "       [-3.20583109e+01, -3.35840237e+00],\n",
       "       [ 1.74791473e+00, -2.78673350e+01],\n",
       "       [-1.04367385e+01, -1.79147281e+01],\n",
       "       [-1.23783039e+01, -1.63356191e+01],\n",
       "       [-1.66862348e+01, -1.32041208e+01],\n",
       "       [-1.70641832e+01, -1.29421904e+01],\n",
       "       [-1.14284717e+01, -1.47072011e+01],\n",
       "       [-2.11691252e+00, -2.13939530e+01],\n",
       "       [-5.86630212e+00, -1.74040262e+01],\n",
       "       [-6.44160070e+00, -1.71804820e+01],\n",
       "       [-1.65307804e+01, -9.75046514e+00],\n",
       "       [-1.91078439e+01, -7.84770642e+00],\n",
       "       [-1.22011311e+01, -1.16806921e+01],\n",
       "       [-1.87466527e+01, -7.02766414e+00],\n",
       "       [-5.70247177e+00, -1.37810191e+01],\n",
       "       [-1.45457835e+01, -7.50635593e+00],\n",
       "       [-9.89837985e+00, -1.10190833e+01],\n",
       "       [-1.04669216e+00, -1.71243951e+01],\n",
       "       [-1.18868022e+01, -8.30794885e+00],\n",
       "       [-3.92816213e+00, -1.40278916e+01],\n",
       "       [-1.13282609e+01, -7.44952035e+00],\n",
       "       [ 3.46355009e+00, -1.79342631e+01],\n",
       "       [-8.33477343e+00, -9.49491083e+00],\n",
       "       [-1.46311214e+01, -5.07295359e+00],\n",
       "       [ 3.27457589e+00, -1.78032979e+01],\n",
       "       [-8.61404674e+00, -9.21378732e+00],\n",
       "       [-8.91845330e+00, -8.02004253e+00],\n",
       "       [-1.47900012e+01, -3.57136564e+00],\n",
       "       [-1.11560493e+01, -5.07783734e+00],\n",
       "       [-5.65407378e+00, -9.09523241e+00],\n",
       "       [-1.01845040e+01, -8.27472473e-01],\n",
       "       [ 1.55362009e+00, -9.16671924e+00],\n",
       "       [-2.82288621e+00, -6.10446680e+00],\n",
       "       [-5.80799772e+00, -3.88972491e+00],\n",
       "       [ 5.48549687e-01, -8.41178768e+00],\n",
       "       [-1.22247445e+01,  7.32443405e-01],\n",
       "       [-6.66256961e+00, -3.38505720e+00],\n",
       "       [ 7.19261956e-02, -8.16905039e+00],\n",
       "       [-1.64122766e+01,  3.66373064e+00],\n",
       "       [-1.00858289e+01, -8.08279367e-01],\n",
       "       [ 4.85648060e+00, -1.15432860e+01],\n",
       "       [-8.89178433e+00, -1.69417612e+00],\n",
       "       [ 9.83277363e-01, -5.23925550e+00],\n",
       "       [ 4.86143645e+00, -7.83936645e+00],\n",
       "       [ 7.11236959e+00, -8.32897619e+00],\n",
       "       [-6.91516865e+00,  1.80125719e+00],\n",
       "       [-2.65409471e+00, -1.98215661e-01],\n",
       "       [-4.20933575e+00,  1.28831433e+00],\n",
       "       [-3.00194870e+00,  1.43433750e+00],\n",
       "       [-8.56412363e+00,  5.55183811e+00],\n",
       "       [-5.48033702e+00,  3.35628932e+00],\n",
       "       [ 3.89142160e+00, -3.43056812e+00],\n",
       "       [-4.38496751e+00,  2.45119946e+00],\n",
       "       [ 1.75250600e+00, -1.88984535e+00],\n",
       "       [-7.91528320e+00,  6.26010829e+00],\n",
       "       [ 2.87796991e+00, -1.42431246e+00],\n",
       "       [-3.38828369e+00,  4.36826753e+00],\n",
       "       [-2.79963737e+00,  3.75596774e+00],\n",
       "       [ 2.44478856e+00, -1.99708008e-01],\n",
       "       [ 7.04874475e+00, -3.27362700e+00],\n",
       "       [ 3.48833465e+00, -8.35340915e-01],\n",
       "       [-2.22433878e+00,  3.53242354e+00],\n",
       "       [-3.85156474e+00,  5.64292475e+00],\n",
       "       [-4.72786035e+00,  6.36699664e+00],\n",
       "       [-9.73148866e+00,  9.92225023e+00],\n",
       "       [-5.42355775e+00,  6.79075191e+00],\n",
       "       [-2.09059754e+00,  4.36413238e+00],\n",
       "       [ 8.17420867e+00, -2.80809411e+00],\n",
       "       [-4.25961814e+00,  7.37558345e+00],\n",
       "       [ 2.47487766e+00,  2.59159027e+00],\n",
       "       [ 4.82448589e+00,  2.12117363e+00],\n",
       "       [ 6.20750469e+00,  1.10431167e+00],\n",
       "       [-7.60933562e+00,  1.08841757e+01],\n",
       "       [ 7.61224722e+00, -1.31954477e-01],\n",
       "       [-4.16436318e+00,  1.09293447e+01],\n",
       "       [ 7.02856205e+00,  2.76358934e+00],\n",
       "       [ 1.05889721e+01,  3.25303258e-01],\n",
       "       [-4.06568809e+00,  1.09485378e+01],\n",
       "       [ 1.08815826e+01,  2.49677519e+00],\n",
       "       [ 3.70084414e+01, -1.65733382e+01],\n",
       "       [-8.11111356e+00,  1.77222363e+01],\n",
       "       [ 2.81049250e+01, -8.77789396e+00],\n",
       "       [-6.58597753e+00,  1.77064346e+01],\n",
       "       [ 4.11407352e+01, -1.71212759e+01],\n",
       "       [-2.84734808e+01,  3.35758038e+01],\n",
       "       [ 2.57987536e+01, -5.90493465e+00],\n",
       "       [-2.77777834e+01,  3.31520486e+01],\n",
       "       [ 2.56097794e+01, -5.77396944e+00],\n",
       "       [-3.38179741e+00,  1.67313503e+01],\n",
       "       [ 2.45662280e+01, -3.71766101e+00],\n",
       "       [-2.46421840e+01,  3.35283939e+01],\n",
       "       [ 3.88947579e+01, -1.29277466e+01],\n",
       "       [-2.76055718e+01,  3.55237316e+01],\n",
       "       [ 2.65378878e+01, -3.92614725e+00],\n",
       "       [-1.99345862e+01,  3.13362365e+01],\n",
       "       [ 2.57736097e+01, -2.15096233e+00],\n",
       "       [-3.04569473e+01,  3.99908578e+01],\n",
       "       [ 4.34350999e+01, -1.37876674e+01],\n",
       "       [ 3.12182308e+00,  1.69142673e+01],\n",
       "       [ 3.93077619e+01, -9.53581020e+00],\n",
       "       [-1.77305154e+01,  3.33993277e+01],\n",
       "       [ 4.85122647e+01, -1.49904311e+01],\n",
       "       [-3.21300591e+00,  2.26376014e+01],\n",
       "       [ 2.96784484e+01, -1.26655792e+00],\n",
       "       [-1.09826771e+01,  2.96472544e+01],\n",
       "       [ 4.24650851e+01, -9.37886909e+00],\n",
       "       [-1.66134274e+01,  3.36955092e+01],\n",
       "       [ 3.99482210e+01, -7.57621591e+00],\n",
       "       [-1.44444121e+01,  3.21047336e+01],\n",
       "       [ 3.07052372e+01, -8.20218136e-01],\n",
       "       [-1.81553207e+01,  3.47932836e+01],\n",
       "       [ 4.30019079e+01, -9.72171193e+00],\n",
       "       [-2.80555263e+01,  4.20923353e+01],\n",
       "       [ 3.37890238e+01, -3.01576692e+00],\n",
       "       [-2.74886037e+01,  4.16994397e+01],\n",
       "       [ 2.98590413e+01, -1.46199015e-01],\n",
       "       [-4.33351397e+00,  2.58759881e+01],\n",
       "       [ 3.84966216e+01, -5.20792430e+00],\n",
       "       [-1.97440816e+01,  3.98644345e+01],\n",
       "       [ 4.71559202e+01, -9.06837826e+00],\n",
       "       [-6.74179118e+00,  3.51056735e+01],\n",
       "       [ 3.44176762e+01,  5.15039513e+00],\n",
       "       [-9.35733558e+00,  3.83098091e+01],\n",
       "       [ 5.12931699e+01, -5.91239638e+00],\n",
       "       [-2.13287384e+00,  3.43149985e+01],\n",
       "       [ 2.69188971e+01,  1.31302488e+01],\n",
       "       [-1.38927217e+01,  4.28736494e+01],\n",
       "       [ 3.71067519e+01,  5.71942496e+00],\n",
       "       [-1.54948144e+01,  4.40715294e+01],\n",
       "       [ 4.89568988e+01, -2.98938430e+00],\n",
       "       [-1.55717711e+01,  4.52536076e+01],\n",
       "       [ 4.59634060e+01,  4.76681701e-01],\n",
       "       [-1.51336232e+01,  4.48915717e+01],\n",
       "       [ 3.31683881e+01,  9.84031698e+00],\n",
       "       [-1.31653889e+01,  4.96383291e+01],\n",
       "       [ 5.11057261e+01,  2.87773203e+00],\n",
       "       [ 7.49454467e+00,  3.96601531e+01],\n",
       "       [ 5.08832268e+01,  8.01399365e+00],\n",
       "       [-6.97952266e+00,  5.14037465e+01],\n",
       "       [ 5.36107834e+01,  7.28164661e+00],\n",
       "       [ 1.34179054e+01,  3.77833703e+01],\n",
       "       [ 6.10844188e+01,  3.05576531e+00],\n",
       "       [ 3.48575325e-01,  4.97113731e+01],\n",
       "       [ 3.98457506e+01,  2.10540802e+01],\n",
       "       [-1.51945356e+00,  5.36429720e+01],\n",
       "       [ 5.28731796e+01,  1.39620224e+01],\n",
       "       [ 4.51934486e+00,  4.92827341e+01],\n",
       "       [ 4.10531324e+01,  2.26207789e+01],\n",
       "       [-1.19521829e+00,  6.58442298e+01],\n",
       "       [ 6.30976204e+01,  1.88642286e+01],\n",
       "       [ 6.56760207e+00,  6.87450641e+01],\n",
       "       [ 5.83530721e+01,  3.10169261e+01],\n",
       "       [ 1.99093546e+01,  6.64464251e+01],\n",
       "       [ 5.85218583e+01,  3.83438527e+01],\n",
       "       [ 2.09811054e+01,  7.93751463e+01],\n",
       "       [ 7.24488265e+01,  4.18088331e+01]])"
      ]
     },
     "execution_count": 31,
     "metadata": {},
     "output_type": "execute_result"
    }
   ],
   "source": [
    "X_reduced"
   ]
  },
  {
   "cell_type": "code",
   "execution_count": 34,
   "id": "d148d884",
   "metadata": {},
   "outputs": [
    {
     "data": {
      "text/plain": [
       "<matplotlib.collections.PathCollection at 0x19d6ddd4550>"
      ]
     },
     "execution_count": 34,
     "metadata": {},
     "output_type": "execute_result"
    },
    {
     "data": {
      "image/png": "[encoded data removed]",
      "text/plain": [
       "<Figure size 432x288 with 1 Axes>"
      ]
     },
     "metadata": {
      "needs_background": "light"
     },
     "output_type": "display_data"
    }
   ],
   "source": [
    "plt.scatter(X_reduced[:, 0], X_reduced[:, 1])"
   ]
  },
  {
   "cell_type": "code",
   "execution_count": null,
   "id": "5311897d",
   "metadata": {},
   "outputs": [],
   "source": []
  }
 ],
 "metadata": {
  "kernelspec": {
   "display_name": "Python 3 (ipykernel)",
   "language": "python",
   "name": "python3"
  },
  "language_info": {
   "codemirror_mode": {
    "name": "ipython",
    "version": 3
   },
   "file_extension": ".py",
   "mimetype": "text/x-python",
   "name": "python",
   "nbconvert_exporter": "python",
   "pygments_lexer": "ipython3",
   "version": "3.9.7"
  }
 },
 "nbformat": 4,
 "nbformat_minor": 5
}
