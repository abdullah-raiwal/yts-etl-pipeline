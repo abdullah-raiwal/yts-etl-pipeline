{
 "cells": [
  {
   "cell_type": "code",
   "execution_count": 1,
   "metadata": {
    "executionInfo": {
     "elapsed": 7,
     "status": "ok",
     "timestamp": 1650988092371,
     "user": {
      "displayName": "Muhammad Abdullah",
      "userId": "12957962707231034749"
     },
     "user_tz": -300
    },
    "id": "Ok34tKJ_Vu4H"
   },
   "outputs": [],
   "source": [
    "import pandas as pd\n",
    "import requests\n",
    "from datetime import datetime\n",
    "import json\n",
    "import os\n",
    "from dateutil import parser\n",
    "import collections\n",
    "from bs4 import BeautifulSoup\n",
    "import re"
   ]
  },
  {
   "cell_type": "markdown",
   "metadata": {
    "id": "WEdS2D5LjI32"
   },
   "source": [
    "The following code helps to determine whether new data is inserted in api database or not, if so then we have to pull new movies data and put that in database and update tracking parameters. "
   ]
  },
  {
   "cell_type": "code",
   "execution_count": 2,
   "metadata": {
    "colab": {
     "base_uri": "https://localhost:8080/"
    },
    "executionInfo": {
     "elapsed": 15,
     "status": "ok",
     "timestamp": 1650904506940,
     "user": {
      "displayName": "Muhammad Abdullah",
      "userId": "12957962707231034749"
     },
     "user_tz": -300
    },
    "id": "VLW0wQJXgACi",
    "outputId": "8b01bde6-693e-4a1b-ada1-25987bf7a9e6"
   },
   "outputs": [],
   "source": [
    "# last_page =  requests.get('https://yts.torrentbay.to/api/v2/list_movies.json?page=821&limit=50').json()\n",
    "first_page = requests.get('https://yts.torrentbay.to/api/v2/list_movies.json?page=6&limit=50').json()"
   ]
  },
  {
   "cell_type": "code",
   "execution_count": 3,
   "metadata": {},
   "outputs": [],
   "source": [
    "movie_a =first_page['data']['movies'][0]"
   ]
  },
  {
   "cell_type": "code",
   "execution_count": null,
   "metadata": {},
   "outputs": [],
   "source": [
    "last_page['data']['movies'][0]['id'], last_page['data']['movies'][-1]['id']"
   ]
  },
  {
   "cell_type": "code",
   "execution_count": null,
   "metadata": {},
   "outputs": [],
   "source": [
    "first_page['data']['movies'][0]['id'], first_page['data']['movies'][-1]['id']"
   ]
  },
  {
   "cell_type": "code",
   "execution_count": null,
   "metadata": {},
   "outputs": [],
   "source": [
    "ids = [41763,41713]\n",
    "ids"
   ]
  },
  {
   "cell_type": "code",
   "execution_count": null,
   "metadata": {},
   "outputs": [],
   "source": [
    "len(last_page['data']['movies'])"
   ]
  },
  {
   "cell_type": "code",
   "execution_count": null,
   "metadata": {},
   "outputs": [],
   "source": [
    "def insert_new_movies(ids:list):\n",
    "\n",
    "    page_number = 1\n",
    "    new_insertion = 0\n",
    "    while True:\n",
    "        init_page = requests.get(f'https://yts.torrentbay.to/api/v2/list_movies.json?page={page_number}&limit=50').json()\n",
    "        \n",
    "        current_ids = [init_page['data']['movies'][0]['id'],init_page['data']['movies'][-1]['id']]\n",
    "\n",
    "        if current_ids > ids:\n",
    "            new_insertion = new_insertion+len(init_page['data']['movies'])\n",
    "            for movie in init_page['data']['movies']:\n",
    "            \n",
    "        \n",
    "            \n",
    "                \n",
    "            page_number = page_number + 1\n",
    "\n",
    "        else:\n",
    "            break"
   ]
  },
  {
   "cell_type": "code",
   "execution_count": null,
   "metadata": {},
   "outputs": [],
   "source": [
    "new_movies = check_new_movies(ids)"
   ]
  },
  {
   "cell_type": "code",
   "execution_count": null,
   "metadata": {},
   "outputs": [],
   "source": [
    "def validate(movie:dict, key:str):\n",
    "    \n"
   ]
  },
  {
   "cell_type": "markdown",
   "metadata": {},
   "source": [
    "Below code is for extracting movie cast based on \"IMDB code\""
   ]
  },
  {
   "cell_type": "code",
   "execution_count": null,
   "metadata": {},
   "outputs": [],
   "source": [
    "import requests\n",
    "from bs4 import BeautifulSoup\n",
    "import re\n",
    "import time"
   ]
  },
  {
   "cell_type": "markdown",
   "metadata": {},
   "source": [
    "## method to get cast list of given imdb movie id"
   ]
  },
  {
   "cell_type": "code",
   "execution_count": null,
   "metadata": {},
   "outputs": [],
   "source": [
    "def get_cast(imdb_id : str):\n",
    "    \n",
    "    url = f'https://www.imdb.com/title/{imdb_id}/fullcredits'\n",
    "    page = requests.get(url)\n",
    "    soup = BeautifulSoup(page.content, 'html.parser')\n",
    "    table = soup.find('table', attrs={'class' : 'cast_list'})\n",
    "    cast = table.find_all('a')   \n",
    "    \n",
    "    return re.findall(r'title=\"(.*?)\"', str(cast))"
   ]
  },
  {
   "cell_type": "markdown",
   "metadata": {},
   "source": [
    "###  The following data needed to be pulled from api response and put in warehouse\n",
    "#### : imdb_code -> unique movie code given by IMDB\n",
    "#### : title_long -> full movie title with year\n",
    "#### : year -> released year\n",
    "#### : rating -> movie rating (1-10)\n",
    "#### : runtime -> in minutes\n",
    "#### : genres -> can be one or more\n",
    "#### : summary -> summary of movie\n",
    "#### : cast -> need to scrape from IMDB\n",
    "#### : mpa_rating -> movie sensorship rating\n",
    "#### : language -> can be one or more"
   ]
  },
  {
   "cell_type": "code",
   "execution_count": null,
   "metadata": {},
   "outputs": [],
   "source": [
    "[movie_a['imdb_code'], movie_a['title_long'], movie_a['year'], movie_a['rating'], movie_a['runtime'], (movie_a['genres']), movie_a['mpa_rating'], movie_a['language']]"
   ]
  },
  {
   "cell_type": "markdown",
   "metadata": {},
   "source": [
    "Here is the main problem, as movie has multiple genres, we need to figure out how to insert genres without repetation.\n",
    "First we need to insert \"imdb_code\" and \"movie_title\" in movies table. Then we have to check that genre exists in genre table, if so then we can skip, else insert it."
   ]
  },
  {
   "cell_type": "code",
   "execution_count": null,
   "metadata": {},
   "outputs": [],
   "source": [
    "import pyodbc"
   ]
  },
  {
   "cell_type": "code",
   "execution_count": null,
   "metadata": {},
   "outputs": [],
   "source": [
    "conn_str = 'Driver={SQL Server};''Server=DESKTOP-K8VV6KV;''Database=yts_warehouse;''Trusted_Connection=yes;''autocommit=True'"
   ]
  },
  {
   "cell_type": "code",
   "execution_count": null,
   "metadata": {},
   "outputs": [],
   "source": [
    "conn = pyodbc.connect(conn_str)"
   ]
  },
  {
   "cell_type": "code",
   "execution_count": null,
   "metadata": {},
   "outputs": [],
   "source": [
    "cursor = conn.cursor()"
   ]
  },
  {
   "cell_type": "code",
   "execution_count": null,
   "metadata": {},
   "outputs": [],
   "source": [
    "type(cursor)"
   ]
  },
  {
   "cell_type": "code",
   "execution_count": null,
   "metadata": {},
   "outputs": [],
   "source": [
    "cursor.execute(\"\"\"\n",
    "use yts_warehouse\n",
    "\"\"\");"
   ]
  },
  {
   "cell_type": "code",
   "execution_count": null,
   "metadata": {},
   "outputs": [],
   "source": [
    "cursor.execute(\"\"\"\n",
    "DBCC CHECKIDENT ('[genre]', RESEED, 0);\n",
    "\"\"\");"
   ]
  },
  {
   "cell_type": "code",
   "execution_count": null,
   "metadata": {},
   "outputs": [],
   "source": [
    "cursor.execute(\"\"\"\n",
    "DBCC CHECKIDENT ('[cast]', RESEED, 0);\n",
    "\"\"\");"
   ]
  },
  {
   "cell_type": "markdown",
   "metadata": {},
   "source": [
    "### inserting into movie table"
   ]
  },
  {
   "cell_type": "code",
   "execution_count": 13,
   "metadata": {},
   "outputs": [
    {
     "ename": "KeyError",
     "evalue": "'date_uploaded'",
     "output_type": "error",
     "traceback": [
      "\u001b[1;31m---------------------------------------------------------------------------\u001b[0m",
      "\u001b[1;31mKeyError\u001b[0m                                  Traceback (most recent call last)",
      "\u001b[1;32m~\\AppData\\Local\\Temp/ipykernel_7484/966005321.py\u001b[0m in \u001b[0;36m<module>\u001b[1;34m\u001b[0m\n\u001b[1;32m----> 1\u001b[1;33m \u001b[0ma\u001b[0m \u001b[1;33m=\u001b[0m \u001b[1;33m[\u001b[0m\u001b[0mmovie_a\u001b[0m\u001b[1;33m[\u001b[0m\u001b[1;34m'imdb_code'\u001b[0m\u001b[1;33m]\u001b[0m\u001b[1;33m,\u001b[0m \u001b[0mmovie_a\u001b[0m\u001b[1;33m[\u001b[0m\u001b[1;34m'title_long'\u001b[0m\u001b[1;33m]\u001b[0m\u001b[1;33m,\u001b[0m \u001b[0mmovie_a\u001b[0m\u001b[1;33m[\u001b[0m\u001b[1;34m'year'\u001b[0m\u001b[1;33m]\u001b[0m\u001b[1;33m,\u001b[0m\u001b[0mmovie_a\u001b[0m\u001b[1;33m[\u001b[0m\u001b[1;34m'rating'\u001b[0m\u001b[1;33m]\u001b[0m\u001b[1;33m,\u001b[0m \u001b[0mmovie_a\u001b[0m\u001b[1;33m[\u001b[0m\u001b[1;34m'runtime'\u001b[0m\u001b[1;33m]\u001b[0m\u001b[1;33m,\u001b[0m \u001b[0mmovie_a\u001b[0m\u001b[1;33m[\u001b[0m\u001b[1;34m'mpa_rating'\u001b[0m\u001b[1;33m]\u001b[0m\u001b[1;33m,\u001b[0m \u001b[0mmovie_a\u001b[0m\u001b[1;33m[\u001b[0m\u001b[1;34m'language'\u001b[0m\u001b[1;33m]\u001b[0m\u001b[1;33m,\u001b[0m \u001b[0mmovie_a\u001b[0m\u001b[1;33m[\u001b[0m\u001b[1;34m'date_uploaded'\u001b[0m\u001b[1;33m]\u001b[0m\u001b[1;33m]\u001b[0m\u001b[1;33m\u001b[0m\u001b[1;33m\u001b[0m\u001b[0m\n\u001b[0m",
      "\u001b[1;31mKeyError\u001b[0m: 'date_uploaded'"
     ]
    }
   ],
   "source": [
    "a = [movie_a['imdb_code'], movie_a['title_long'], movie_a['year'],movie_a['rating'], movie_a['runtime'], movie_a['mpa_rating'], movie_a['language'], movie_a['date_uploaded']]"
   ]
  },
  {
   "cell_type": "markdown",
   "metadata": {},
   "source": [
    "## data validation check"
   ]
  },
  {
   "cell_type": "code",
   "execution_count": 5,
   "metadata": {},
   "outputs": [],
   "source": [
    "cols = ['imdb_code','title_long', 'year', 'rating', 'runtime', 'mpa_rating', 'language', 'date_uploaded', 'genres', 'summary', 'a', 'b']"
   ]
  },
  {
   "cell_type": "code",
   "execution_count": 19,
   "metadata": {},
   "outputs": [],
   "source": [
    "empty_cols = {}\n",
    "for col in cols:\n",
    "    if col not in movie_a.keys():\n",
    "        empty_cols[col] = 'None'"
   ]
  },
  {
   "cell_type": "code",
   "execution_count": 37,
   "metadata": {},
   "outputs": [],
   "source": [
    "a = [movie_a['imdb_code']] +  list(empty_cols.keys())"
   ]
  },
  {
   "cell_type": "code",
   "execution_count": 40,
   "metadata": {},
   "outputs": [
    {
     "data": {
      "text/plain": [
       "'None'"
      ]
     },
     "execution_count": 40,
     "metadata": {},
     "output_type": "execute_result"
    }
   ],
   "source": [
    "empty_cols['a']"
   ]
  },
  {
   "cell_type": "code",
   "execution_count": 29,
   "metadata": {},
   "outputs": [],
   "source": [
    "del movie_a['date_uploaded']"
   ]
  },
  {
   "cell_type": "code",
   "execution_count": 30,
   "metadata": {},
   "outputs": [
    {
     "data": {
      "text/plain": [
       "{'id': 43161,\n",
       " 'url': 'https://yts.torrentbay.to/movies/slim-i-2020',\n",
       " 'imdb_code': 'tt13085336',\n",
       " 'title': 'Slim & I',\n",
       " 'title_english': 'Slim & I',\n",
       " 'title_long': 'Slim & I (2020)',\n",
       " 'slug': 'slim-i-2020',\n",
       " 'year': 2020,\n",
       " 'rating': 8.2,\n",
       " 'runtime': 107,\n",
       " 'genres': ['Action'],\n",
       " 'summary': 'For over 50 years country music legend Slim Dusty and his wife Joy McKean trail-blazed their way across Australia performing, writing and collecting songs of the bush and its people. They created a musical legacy that to this day continues to entertain and inspire, a catalogue of plain speaking yet profoundly insightful music documenting the rural Australian experience. Theirs is perhaps one of the greatest partnerships in Australian music history. SLIM and I is a feature documentary that tells the incredible story of that partnership and of the woman who lived beside, rather than behind, the legend. Australia\\'s own \"Queen of Country Music\", Joy McKean.',\n",
       " 'description_full': 'For over 50 years country music legend Slim Dusty and his wife Joy McKean trail-blazed their way across Australia performing, writing and collecting songs of the bush and its people. They created a musical legacy that to this day continues to entertain and inspire, a catalogue of plain speaking yet profoundly insightful music documenting the rural Australian experience. Theirs is perhaps one of the greatest partnerships in Australian music history. SLIM and I is a feature documentary that tells the incredible story of that partnership and of the woman who lived beside, rather than behind, the legend. Australia\\'s own \"Queen of Country Music\", Joy McKean.',\n",
       " 'synopsis': 'For over 50 years country music legend Slim Dusty and his wife Joy McKean trail-blazed their way across Australia performing, writing and collecting songs of the bush and its people. They created a musical legacy that to this day continues to entertain and inspire, a catalogue of plain speaking yet profoundly insightful music documenting the rural Australian experience. Theirs is perhaps one of the greatest partnerships in Australian music history. SLIM and I is a feature documentary that tells the incredible story of that partnership and of the woman who lived beside, rather than behind, the legend. Australia\\'s own \"Queen of Country Music\", Joy McKean.',\n",
       " 'yt_trailer_code': 'ZgA8DMzjzlk',\n",
       " 'language': 'en',\n",
       " 'mpa_rating': '',\n",
       " 'background_image': 'https://yts.torrentbay.to/assets/images/movies/slim_i_2020/background.jpg',\n",
       " 'background_image_original': 'https://yts.torrentbay.to/assets/images/movies/slim_i_2020/background.jpg',\n",
       " 'small_cover_image': 'https://yts.torrentbay.to/assets/images/movies/slim_i_2020/small-cover.jpg',\n",
       " 'medium_cover_image': 'https://yts.torrentbay.to/assets/images/movies/slim_i_2020/medium-cover.jpg?v=91',\n",
       " 'large_cover_image': 'https://yts.torrentbay.to/assets/images/movies/slim_i_2020/large-cover.jpg',\n",
       " 'state': 'ok',\n",
       " 'torrents': [{'url': 'https://yts.torrentbay.to/torrent/download/04A162175E641E8485F165E7B720C169569FEAD2',\n",
       "   'hash': '04A162175E641E8485F165E7B720C169569FEAD2',\n",
       "   'quality': '720p',\n",
       "   'type': 'web',\n",
       "   'seeds': 6,\n",
       "   'peers': 6,\n",
       "   'size': '972.86 MB',\n",
       "   'size_bytes': 1020117647,\n",
       "   'date_uploaded': '2022-07-01 15:26:20',\n",
       "   'date_uploaded_unix': 1656681980},\n",
       "  {'url': 'https://yts.torrentbay.to/torrent/download/6DE4939B4B0631086A137947737C1E137E234AD1',\n",
       "   'hash': '6DE4939B4B0631086A137947737C1E137E234AD1',\n",
       "   'quality': '1080p',\n",
       "   'type': 'web',\n",
       "   'seeds': 10,\n",
       "   'peers': 3,\n",
       "   'size': '1.95 GB',\n",
       "   'size_bytes': 2093796557,\n",
       "   'date_uploaded': '2022-07-01 16:26:24',\n",
       "   'date_uploaded_unix': 1656685584}],\n",
       " 'date_uploaded_unix': 1656681980}"
      ]
     },
     "execution_count": 30,
     "metadata": {},
     "output_type": "execute_result"
    }
   ],
   "source": [
    "movie_a"
   ]
  },
  {
   "cell_type": "code",
   "execution_count": 31,
   "metadata": {},
   "outputs": [
    {
     "data": {
      "text/plain": [
       "dict_keys(['id', 'url', 'imdb_code', 'title', 'title_english', 'title_long', 'slug', 'year', 'rating', 'runtime', 'genres', 'summary', 'description_full', 'synopsis', 'yt_trailer_code', 'language', 'mpa_rating', 'background_image', 'background_image_original', 'small_cover_image', 'medium_cover_image', 'large_cover_image', 'state', 'torrents', 'date_uploaded_unix'])"
      ]
     },
     "execution_count": 31,
     "metadata": {},
     "output_type": "execute_result"
    }
   ],
   "source": [
    "movie_a.keys()"
   ]
  },
  {
   "cell_type": "code",
   "execution_count": null,
   "metadata": {},
   "outputs": [],
   "source": [
    "cursor.execute(\"\"\"\n",
    "insert into movies (imdb_id, title, year, rating, runtime, mpa_rating, language, date_uploaded)\n",
    "VALUES (?,?,?,?,?,?,?,?)\n",
    "\"\"\",\n",
    "a);"
   ]
  },
  {
   "cell_type": "code",
   "execution_count": null,
   "metadata": {},
   "outputs": [],
   "source": [
    "for i in cursor.execute(\"select imdb_id from movies\"):\n",
    "    print(i[0])"
   ]
  },
  {
   "cell_type": "code",
   "execution_count": null,
   "metadata": {},
   "outputs": [],
   "source": [
    "movie_a['imdb_code'] in [cursor.execute(\"select imdb_id from movies\")]"
   ]
  },
  {
   "cell_type": "code",
   "execution_count": null,
   "metadata": {},
   "outputs": [],
   "source": [
    "for i in cursor.execute(\"select imdb_id from movies\"):\n",
    "    print(i)"
   ]
  },
  {
   "cell_type": "markdown",
   "metadata": {},
   "source": [
    "### inserting into genre and movie_genre table"
   ]
  },
  {
   "cell_type": "code",
   "execution_count": null,
   "metadata": {},
   "outputs": [],
   "source": [
    "for genre in movie_a['genres']:\n",
    "    cursor.execute(\"\"\"\n",
    "                declare @temp_genre_id int;\n",
    "                if not exists (\n",
    "                                select * from genre\n",
    "                                where genre_title = ?\n",
    "                              )\n",
    "                begin\n",
    "                    insert into genre values(?)\n",
    "                end\n",
    "        select @temp_genre_id  = genre_id from genre where genre_title = ?\n",
    "        insert into movie_genre\n",
    "        values(?, @temp_genre_id)\n",
    "    \"\"\", genre, genre, genre, movie_a['imdb_code'])"
   ]
  },
  {
   "cell_type": "code",
   "execution_count": null,
   "metadata": {},
   "outputs": [],
   "source": [
    "cursor.execute('select *from genre')\n",
    "for i in cursor:\n",
    "    print(i)"
   ]
  },
  {
   "cell_type": "code",
   "execution_count": null,
   "metadata": {},
   "outputs": [],
   "source": [
    "cursor.execute('select *from movie_genre')\n",
    "for i in cursor:\n",
    "    print(i)"
   ]
  },
  {
   "cell_type": "code",
   "execution_count": null,
   "metadata": {},
   "outputs": [],
   "source": [
    "# before that, we need to scrape cast from imdb_page using movie id\n",
    "cast_list = get_cast(movie_a['imdb_code'])\n",
    "cast_list"
   ]
  },
  {
   "cell_type": "markdown",
   "metadata": {},
   "source": [
    "### inserting into cast and movie_cast table"
   ]
  },
  {
   "cell_type": "code",
   "execution_count": null,
   "metadata": {},
   "outputs": [],
   "source": [
    "for actor in cast_list:\n",
    "    cursor.execute(\"\"\"\n",
    "                declare @temp_actor_id int;\n",
    "                if not exists (\n",
    "                                select * from cast\n",
    "                                where actor_name = ?\n",
    "                              )\n",
    "                begin\n",
    "                        insert into cast values(?)\n",
    "                end\n",
    "        select @temp_actor_id  = actor_id from cast where actor_name = ?\n",
    "        insert into movie_cast\n",
    "        values(?, @temp_actor_id)\n",
    "    \"\"\", actor, actor, actor, movie_a['imdb_code'])"
   ]
  },
  {
   "cell_type": "code",
   "execution_count": null,
   "metadata": {},
   "outputs": [],
   "source": []
  },
  {
   "cell_type": "code",
   "execution_count": null,
   "metadata": {},
   "outputs": [],
   "source": [
    "cursor.execute(\" select *from cast\")\n",
    "for i in cursor:\n",
    "    print(i)"
   ]
  },
  {
   "cell_type": "code",
   "execution_count": null,
   "metadata": {},
   "outputs": [],
   "source": [
    "cursor.execute(\" select *from movie_cast\")\n",
    "for i in cursor:\n",
    "    print(i)"
   ]
  },
  {
   "cell_type": "markdown",
   "metadata": {},
   "source": [
    "### inserting into genre and movie_genre table"
   ]
  },
  {
   "cell_type": "code",
   "execution_count": null,
   "metadata": {},
   "outputs": [],
   "source": [
    "movie_a['summary']"
   ]
  },
  {
   "cell_type": "code",
   "execution_count": null,
   "metadata": {},
   "outputs": [],
   "source": [
    "cursor.execute(\"\"\"\n",
    "\n",
    "insert into summary (imdb_id, summary)\n",
    "values (?, ?)\n",
    "\n",
    "\"\"\", movie_a['imdb_code'], movie_a['summary'])"
   ]
  },
  {
   "cell_type": "markdown",
   "metadata": {},
   "source": [
    "### Method to insert data into rdbms\n"
   ]
  },
  {
   "cell_type": "code",
   "execution_count": null,
   "metadata": {},
   "outputs": [],
   "source": [
    "def load_movie(movie:dict, cursor: pyodbc.Cursor):\n",
    "    \n",
    "    # first, we need to extract current movie's cast list from imdb_id\n",
    "    cast_list = get_cast(movie['imdb_code'])\n",
    "    \n",
    "    # now, let's insert data into respective tables one by one \n",
    "    \n",
    "    # 1-> Movie table\n",
    "    cursor.execute(\"\"\"\n",
    "    insert into movies (imdb_id, title, year, rating, runtime, mpa_rating, language, date_uploaded)\n",
    "    VALUES (?,?,?,?,?,?,?,?)\n",
    "    \"\"\",\n",
    "    movie['imdb_code'], movie['title_long'], movie['year'],movie['rating'], movie['runtime'], movie['mpa_rating'], movie['language'], movie['date_uploaded']              \n",
    "                  );\n",
    "    \n",
    "    #2-> genre and movie_genre table\n",
    "    for genre in movie['genres']:\n",
    "        cursor.execute(\"\"\"\n",
    "                    declare @temp_genre_id int;\n",
    "                    if not exists (\n",
    "                                    select * from genre\n",
    "                                    where genre_title = ?\n",
    "                                  )\n",
    "                    begin\n",
    "                        insert into genre values(?)\n",
    "                    end\n",
    "            select @temp_genre_id  = genre_id from genre where genre_title = ?\n",
    "            insert into movie_genre\n",
    "            values(?, @temp_genre_id)\n",
    "        \"\"\", genre, genre, genre, movie['imdb_code'])\n",
    "        \n",
    "    #3-> cast and movie_cast\n",
    "    for actor in cast_list:\n",
    "        cursor.execute(\"\"\"\n",
    "                    declare @temp_actor_id int;\n",
    "                    if not exists (\n",
    "                                    select * from cast\n",
    "                                    where actor_name = ?\n",
    "                                  )\n",
    "                    begin\n",
    "                            insert into cast values(?)\n",
    "                    end\n",
    "            select @temp_actor_id  = actor_id from cast where actor_name = ?\n",
    "            insert into movie_cast\n",
    "            values(?, @temp_actor_id)\n",
    "        \"\"\", actor, actor, actor, movie_a['imdb_code'])\n",
    "    \n",
    "    cursor.execute(\"\"\"\n",
    "\n",
    "        insert into summary (imdb_id, summary)\n",
    "        values (?, ?)\n",
    "\n",
    "        \"\"\", movie['imdb_code'], movie['summary'])"
   ]
  },
  {
   "cell_type": "code",
   "execution_count": null,
   "metadata": {},
   "outputs": [],
   "source": [
    "%%time\n",
    "load_movie(movie=movie_a, cursor=cursor)"
   ]
  },
  {
   "cell_type": "code",
   "execution_count": null,
   "metadata": {},
   "outputs": [],
   "source": [
    "cursor.execute(\"\"\"\n",
    "select *from summary\n",
    "\"\"\")\n",
    "\n",
    "for i in cursor:\n",
    "    print(i)"
   ]
  },
  {
   "cell_type": "code",
   "execution_count": null,
   "metadata": {},
   "outputs": [],
   "source": [
    "def GetParams(meta_path:str) -> list:\n",
    "    meta_file = pd.read_json(meta_path)\n",
    "    if len(meta_file['track_ids']) == 0:\n",
    "        return None\n",
    "    else:\n",
    "        return list(meta_file['track_ids'])"
   ]
  },
  {
   "cell_type": "code",
   "execution_count": null,
   "metadata": {},
   "outputs": [],
   "source": [
    "def update_track_ids(meta_path: str, track_id: list) -> None:\n",
    "        meta_file = pd.read_json(meta_path)\n",
    "        meta_file['track_ids'] = track_id\n",
    "        meta_file.to_json(meta_path)"
   ]
  },
  {
   "cell_type": "code",
   "execution_count": null,
   "metadata": {},
   "outputs": [],
   "source": [
    "update_track_ids('../meta.json', [123, 456])"
   ]
  },
  {
   "cell_type": "code",
   "execution_count": null,
   "metadata": {},
   "outputs": [],
   "source": [
    "cast_url = \"https://www.imdb.com/title/{}/fullcredits\"\n",
    "def get_cast(imdb_id: str):\n",
    "\n",
    "        url = cast_url\n",
    "        page = requests.get(cast_url.format(imdb_id))\n",
    "        soup = BeautifulSoup(page.content, 'html.parser')\n",
    "        table = soup.find('table', attrs={'class': 'cast_list'})\n",
    "        cast = table.find_all('a')\n",
    "        \n",
    "        return re.findall(r'title=\"(.*?)\"', str(cast))"
   ]
  },
  {
   "cell_type": "code",
   "execution_count": null,
   "metadata": {},
   "outputs": [],
   "source": [
    "get_cast('tt1423953')"
   ]
  },
  {
   "cell_type": "code",
   "execution_count": 11,
   "metadata": {},
   "outputs": [],
   "source": [
    "def validate(movie:dict, key:str):\n",
    "    if key in movie.keys():\n",
    "        return movie.get(key)\n",
    "    else:\n",
    "        return 'None'"
   ]
  },
  {
   "cell_type": "code",
   "execution_count": 12,
   "metadata": {},
   "outputs": [
    {
     "data": {
      "text/plain": [
       "dict_keys(['id', 'url', 'imdb_code', 'title', 'title_english', 'title_long', 'slug', 'year', 'rating', 'runtime', 'genres', 'summary', 'description_full', 'synopsis', 'yt_trailer_code', 'language', 'mpa_rating', 'background_image', 'background_image_original', 'small_cover_image', 'medium_cover_image', 'large_cover_image', 'state', 'torrents', 'date_uploaded', 'date_uploaded_unix'])"
      ]
     },
     "execution_count": 12,
     "metadata": {},
     "output_type": "execute_result"
    }
   ],
   "source": [
    "movie_a.keys()"
   ]
  },
  {
   "cell_type": "code",
   "execution_count": 15,
   "metadata": {},
   "outputs": [
    {
     "name": "stdout",
     "output_type": "stream",
     "text": [
      "None\n"
     ]
    }
   ],
   "source": [
    "print(validate(movie_a, 'date_uploaded'))"
   ]
  },
  {
   "cell_type": "code",
   "execution_count": 14,
   "metadata": {},
   "outputs": [],
   "source": [
    "del movie_a['date_uploaded']"
   ]
  },
  {
   "cell_type": "code",
   "execution_count": null,
   "metadata": {},
   "outputs": [],
   "source": []
  }
 ],
 "metadata": {
  "colab": {
   "authorship_tag": "ABX9TyPM/HnaCVtVTEiyxk/BWyVI",
   "collapsed_sections": [],
   "name": "yts api exploration.ipynb",
   "provenance": []
  },
  "kernelspec": {
   "display_name": "Python 3 (ipykernel)",
   "language": "python",
   "name": "python3"
  },
  "language_info": {
   "codemirror_mode": {
    "name": "ipython",
    "version": 3
   },
   "file_extension": ".py",
   "mimetype": "text/x-python",
   "name": "python",
   "nbconvert_exporter": "python",
   "pygments_lexer": "ipython3",
   "version": "3.9.7"
  },
  "vscode": {
   "interpreter": {
    "hash": "7b123d82fa6e0dffb906641240f8f50674d74cbd63896a6037868928f4236b99"
   }
  }
 },
 "nbformat": 4,
 "nbformat_minor": 1
}
