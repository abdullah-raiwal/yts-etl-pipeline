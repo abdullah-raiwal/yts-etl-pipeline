{
 "cells": [
  {
   "cell_type": "code",
   "execution_count": 1,
   "metadata": {
    "executionInfo": {
     "elapsed": 7,
     "status": "ok",
     "timestamp": 1650988092371,
     "user": {
      "displayName": "Muhammad Abdullah",
      "userId": "12957962707231034749"
     },
     "user_tz": -300
    },
    "id": "Ok34tKJ_Vu4H"
   },
   "outputs": [],
   "source": [
    "import pandas as pd\n",
    "import requests\n",
    "from datetime import datetime\n",
    "import json\n",
    "import os\n",
    "from dateutil import parser\n",
    "import collections"
   ]
  },
  {
   "cell_type": "markdown",
   "metadata": {
    "id": "WEdS2D5LjI32"
   },
   "source": [
    "The following code helps to determine whether new data is inserted in api database or not, if so then we have to pull new movies data and put that in database and update tracking parameters. "
   ]
  },
  {
   "cell_type": "code",
   "execution_count": 2,
   "metadata": {
    "colab": {
     "base_uri": "https://localhost:8080/"
    },
    "executionInfo": {
     "elapsed": 15,
     "status": "ok",
     "timestamp": 1650904506940,
     "user": {
      "displayName": "Muhammad Abdullah",
      "userId": "12957962707231034749"
     },
     "user_tz": -300
    },
    "id": "VLW0wQJXgACi",
    "outputId": "8b01bde6-693e-4a1b-ada1-25987bf7a9e6"
   },
   "outputs": [],
   "source": [
    "last_page =  requests.get('https://yts.torrentbay.to/api/v2/list_movies.json?page=821&limit=50').json()\n",
    "first_page = requests.get('https://yts.torrentbay.to/api/v2/list_movies.json?page=1&limit=50').json()"
   ]
  },
  {
   "cell_type": "code",
   "execution_count": 3,
   "metadata": {},
   "outputs": [
    {
     "data": {
      "text/plain": [
       "True"
      ]
     },
     "execution_count": 3,
     "metadata": {},
     "output_type": "execute_result"
    }
   ],
   "source": [
    "'movies' in last_page['data'].keys()"
   ]
  },
  {
   "cell_type": "code",
   "execution_count": 27,
   "metadata": {},
   "outputs": [
    {
     "data": {
      "text/plain": [
       "(1494, 1445)"
      ]
     },
     "execution_count": 27,
     "metadata": {},
     "output_type": "execute_result"
    }
   ],
   "source": [
    "last_page['data']['movies'][0]['id'], last_page['data']['movies'][-1]['id']"
   ]
  },
  {
   "cell_type": "code",
   "execution_count": 28,
   "metadata": {},
   "outputs": [
    {
     "data": {
      "text/plain": [
       "(43174, 43126)"
      ]
     },
     "execution_count": 28,
     "metadata": {},
     "output_type": "execute_result"
    }
   ],
   "source": [
    "first_page['data']['movies'][0]['id'], first_page['data']['movies'][-1]['id']"
   ]
  },
  {
   "cell_type": "code",
   "execution_count": 29,
   "metadata": {},
   "outputs": [
    {
     "data": {
      "text/plain": [
       "[41763, 41713]"
      ]
     },
     "execution_count": 29,
     "metadata": {},
     "output_type": "execute_result"
    }
   ],
   "source": [
    "ids = [41763,41713]\n",
    "ids"
   ]
  },
  {
   "cell_type": "code",
   "execution_count": 4,
   "metadata": {},
   "outputs": [
    {
     "data": {
      "text/plain": [
       "50"
      ]
     },
     "execution_count": 4,
     "metadata": {},
     "output_type": "execute_result"
    }
   ],
   "source": [
    "len(last_page['data']['movies'])"
   ]
  },
  {
   "cell_type": "code",
   "execution_count": 37,
   "metadata": {},
   "outputs": [],
   "source": [
    "def insert_new_movies(ids:list):\n",
    "\n",
    "    page_number = 1\n",
    "    new_insertion = 0\n",
    "    while True:\n",
    "        init_page = requests.get(f'https://yts.torrentbay.to/api/v2/list_movies.json?page={page_number}&limit=50').json()\n",
    "        \n",
    "        current_ids = [init_page['data']['movies'][0]['id'],init_page['data']['movies'][-1]['id']]\n",
    "\n",
    "        if current_ids > ids:\n",
    "            new_insertion = new_insertion+len(init_page['data']['movies'])\n",
    "            for movie in init_page['data']['movies']:\n",
    "            \n",
    "        \n",
    "            \n",
    "                \n",
    "            page_number = page_number + 1\n",
    "\n",
    "        else:\n",
    "            break"
   ]
  },
  {
   "cell_type": "code",
   "execution_count": 38,
   "metadata": {},
   "outputs": [],
   "source": [
    "new_movies = check_new_movies(ids)"
   ]
  },
  {
   "cell_type": "code",
   "execution_count": null,
   "metadata": {},
   "outputs": [],
   "source": [
    "def load():\n",
    "    \n",
    "    \n"
   ]
  },
  {
   "cell_type": "markdown",
   "metadata": {},
   "source": [
    "Below code is for extracting movie cast based on \"IMDB code\""
   ]
  },
  {
   "cell_type": "code",
   "execution_count": 6,
   "metadata": {},
   "outputs": [],
   "source": [
    "import requests\n",
    "from bs4 import BeautifulSoup\n",
    "import re\n",
    "import time"
   ]
  },
  {
   "cell_type": "markdown",
   "metadata": {},
   "source": [
    "## method to get cast list of given imdb movie id"
   ]
  },
  {
   "cell_type": "code",
   "execution_count": 7,
   "metadata": {},
   "outputs": [],
   "source": [
    "def get_cast(imdb_id : str):\n",
    "    \n",
    "    url = f'https://www.imdb.com/title/{imdb_id}/fullcredits'\n",
    "    page = requests.get(url)\n",
    "    soup = BeautifulSoup(page.content, 'html.parser')\n",
    "    table = soup.find('table', attrs={'class' : 'cast_list'})\n",
    "    cast = table.find_all('a')   \n",
    "    \n",
    "    return re.findall(r'title=\"(.*?)\"', str(cast))"
   ]
  },
  {
   "cell_type": "markdown",
   "metadata": {},
   "source": [
    "###  The following data needed to be pulled from api response and put in warehouse\n",
    "#### : imdb_code -> unique movie code given by IMDB\n",
    "#### : title_long -> full movie title with year\n",
    "#### : year -> released year\n",
    "#### : rating -> movie rating (1-10)\n",
    "#### : runtime -> in minutes\n",
    "#### : genres -> can be one or more\n",
    "#### : summary -> summary of movie\n",
    "#### : cast -> need to scrape from IMDB\n",
    "#### : mpa_rating -> movie sensorship rating\n",
    "#### : language -> can be one or more"
   ]
  },
  {
   "cell_type": "code",
   "execution_count": null,
   "metadata": {},
   "outputs": [],
   "source": [
    "movie_a['imdb_code'], movie_a['title_long'], movie_a['year'], movie_a['rating'], movie_a['runtime'], (movie_a['genres']), movie_a['mpa_rating'], movie_a['language']"
   ]
  },
  {
   "cell_type": "markdown",
   "metadata": {},
   "source": [
    "Here is the main problem, as movie has multiple genres, we need to figure out how to insert genres without repetation.\n",
    "First we need to insert \"imdb_code\" and \"movie_title\" in movies table. Then we have to check that genre exists in genre table, if so then we can skip, else insert it."
   ]
  },
  {
   "cell_type": "code",
   "execution_count": 8,
   "metadata": {},
   "outputs": [],
   "source": [
    "import pyodbc"
   ]
  },
  {
   "cell_type": "code",
   "execution_count": 14,
   "metadata": {},
   "outputs": [],
   "source": [
    "conn = pyodbc.connect('Driver={SQL Server};'\n",
    "                      'Server=DESKTOP-K8VV6KV;'\n",
    "                      'Database=yts_warehouse;'\n",
    "                      'Trusted_Connection=yes;'\n",
    "                       'autocommit=True')"
   ]
  },
  {
   "cell_type": "code",
   "execution_count": 10,
   "metadata": {},
   "outputs": [],
   "source": [
    "cursor = conn.cursor()"
   ]
  },
  {
   "cell_type": "code",
   "execution_count": 11,
   "metadata": {},
   "outputs": [
    {
     "data": {
      "text/plain": [
       "pyodbc.Cursor"
      ]
     },
     "execution_count": 11,
     "metadata": {},
     "output_type": "execute_result"
    }
   ],
   "source": [
    "type(cursor)"
   ]
  },
  {
   "cell_type": "code",
   "execution_count": 15,
   "metadata": {},
   "outputs": [],
   "source": [
    "cursor.execute(\"\"\"\n",
    "use yts_warehouse\n",
    "\"\"\");"
   ]
  },
  {
   "cell_type": "code",
   "execution_count": 16,
   "metadata": {},
   "outputs": [],
   "source": [
    "cursor.execute(\"\"\"\n",
    "DBCC CHECKIDENT ('[genre]', RESEED, 0);\n",
    "\"\"\");"
   ]
  },
  {
   "cell_type": "code",
   "execution_count": 18,
   "metadata": {},
   "outputs": [],
   "source": [
    "cursor.execute(\"\"\"\n",
    "DBCC CHECKIDENT ('[cast]', RESEED, 0);\n",
    "\"\"\");"
   ]
  },
  {
   "cell_type": "markdown",
   "metadata": {},
   "source": [
    "### inserting into movie table"
   ]
  },
  {
   "cell_type": "code",
   "execution_count": null,
   "metadata": {},
   "outputs": [],
   "source": [
    "cursor.execute(\"\"\"\n",
    "insert into movies (imdb_id, title, year, rating, runtime, mpa_rating, language, date_uploaded)\n",
    "VALUES (?,?,?,?,?,?,?,?)\n",
    "\"\"\",\n",
    "movie_a['imdb_code'], movie_a['title_long'], movie_a['year'],movie_a['rating'], movie_a['runtime'], movie_a['mpa_rating'], movie_a['language'], movie_a['date_uploaded']              \n",
    "              );"
   ]
  },
  {
   "cell_type": "code",
   "execution_count": 28,
   "metadata": {},
   "outputs": [
    {
     "name": "stdout",
     "output_type": "stream",
     "text": [
      "('tt0386588', 'Hitch (2005)', 2005, 6.6, 118.0, 'PG-13', 'en', datetime.datetime(2015, 10, 31, 23, 58, 31))\n",
      "('tt0975645', 'Hitchcock (2012)', 2012, 6.8, 98.0, 'PG-13', 'en', datetime.datetime(2015, 10, 31, 23, 58, 36))\n"
     ]
    }
   ],
   "source": [
    "cursor.execute('select * from movies')\n",
    "for i in cursor:\n",
    "    print(i)"
   ]
  },
  {
   "cell_type": "markdown",
   "metadata": {},
   "source": [
    "### inserting into genre and movie_genre table"
   ]
  },
  {
   "cell_type": "code",
   "execution_count": null,
   "metadata": {},
   "outputs": [],
   "source": [
    "for genre in movie_a['genres']:\n",
    "    cursor.execute(\"\"\"\n",
    "                declare @temp_genre_id int;\n",
    "                if not exists (\n",
    "                                select * from genre\n",
    "                                where genre_title = ?\n",
    "                              )\n",
    "                begin\n",
    "                    insert into genre values(?)\n",
    "                end\n",
    "        select @temp_genre_id  = genre_id from genre where genre_title = ?\n",
    "        insert into movie_genre\n",
    "        values(?, @temp_genre_id)\n",
    "    \"\"\", genre, genre, genre, movie_a['imdb_code'])"
   ]
  },
  {
   "cell_type": "code",
   "execution_count": 29,
   "metadata": {},
   "outputs": [
    {
     "name": "stdout",
     "output_type": "stream",
     "text": [
      "(1, 'Action')\n",
      "(2, 'Biography')\n",
      "(3, 'Comedy')\n",
      "(4, 'Drama')\n",
      "(5, 'Romance')\n"
     ]
    }
   ],
   "source": [
    "cursor.execute('select *from genre')\n",
    "for i in cursor:\n",
    "    print(i)"
   ]
  },
  {
   "cell_type": "code",
   "execution_count": 30,
   "metadata": {},
   "outputs": [
    {
     "name": "stdout",
     "output_type": "stream",
     "text": [
      "('tt0975645', 1)\n",
      "('tt0975645', 2)\n",
      "('tt0975645', 3)\n",
      "('tt0975645', 4)\n",
      "('tt0975645', 5)\n",
      "('tt0386588', 1)\n",
      "('tt0386588', 3)\n",
      "('tt0386588', 5)\n"
     ]
    }
   ],
   "source": [
    "cursor.execute('select *from movie_genre')\n",
    "for i in cursor:\n",
    "    print(i)"
   ]
  },
  {
   "cell_type": "code",
   "execution_count": null,
   "metadata": {},
   "outputs": [],
   "source": [
    "# before that, we need to scrape cast from imdb_page using movie id\n",
    "cast_list = get_cast(movie_a['imdb_code'])\n",
    "cast_list"
   ]
  },
  {
   "cell_type": "markdown",
   "metadata": {},
   "source": [
    "### inserting into cast and movie_cast table"
   ]
  },
  {
   "cell_type": "code",
   "execution_count": null,
   "metadata": {},
   "outputs": [],
   "source": [
    "for actor in cast_list:\n",
    "    cursor.execute(\"\"\"\n",
    "                declare @temp_actor_id int;\n",
    "                if not exists (\n",
    "                                select * from cast\n",
    "                                where actor_name = ?\n",
    "                              )\n",
    "                begin\n",
    "                        insert into cast values(?)\n",
    "                end\n",
    "        select @temp_actor_id  = actor_id from cast where actor_name = ?\n",
    "        insert into movie_cast\n",
    "        values(?, @temp_actor_id)\n",
    "    \"\"\", actor, actor, actor, movie_a['imdb_code'])"
   ]
  },
  {
   "cell_type": "code",
   "execution_count": null,
   "metadata": {},
   "outputs": [],
   "source": []
  },
  {
   "cell_type": "code",
   "execution_count": 31,
   "metadata": {},
   "outputs": [
    {
     "name": "stdout",
     "output_type": "stream",
     "text": [
      "(1, 'Anthony Hopkins')\n",
      "(2, 'Helen Mirren')\n",
      "(3, 'Scarlett Johansson')\n",
      "(4, 'Danny Huston')\n",
      "(5, 'Toni Collette')\n",
      "(6, 'Michael Stuhlbarg')\n",
      "(7, 'Michael Wincott')\n",
      "(8, 'Jessica Biel')\n",
      "(9, \"James D'Arcy\")\n",
      "(10, 'Richard Portnow')\n",
      "(11, 'Kurtwood Smith')\n",
      "(12, 'Ralph Macchio')\n",
      "(13, 'Kai Lennox')\n",
      "(14, 'Tara Summers')\n",
      "(15, 'Wallace Langham')\n",
      "(16, 'Paul Schackman')\n",
      "(17, 'Currie Graham')\n",
      "(18, 'Spencer Garrett')\n",
      "(19, 'Terry Rhoads')\n",
      "(20, 'Tom Virtue')\n",
      "(21, 'Karina Deyko')\n",
      "(22, 'Steven Lee Allen')\n",
      "(23, 'Richard Chassler')\n",
      "(24, 'Frank Collison')\n",
      "(25, 'Melinda Chilton')\n",
      "(26, 'Mary Anne McGarry')\n",
      "(27, 'Jon Abrahams')\n",
      "(28, 'Gil McKinney')\n",
      "(29, 'Emma Julia Jacobs')\n",
      "(30, 'Spencer Leigh')\n",
      "(31, 'Sean MacPherson')\n",
      "(32, 'Gerald Casale')\n",
      "(33, 'Tara Arroyave')\n",
      "(34, 'Judith Hoag')\n",
      "(35, 'Josh Yeo')\n",
      "(36, 'Danielle Burgio')\n",
      "(37, 'John Lacy')\n",
      "(38, 'Howard Gibson')\n",
      "(39, 'Josette Prevost')\n",
      "(40, 'Lauren Stewart')\n",
      "(41, 'Jaehne Moebius')\n",
      "(42, 'Ana Matallana')\n",
      "(43, 'Lindsey Ginter')\n",
      "(44, 'Paul Henderson')\n",
      "(45, 'Kay Henderson')\n",
      "(46, 'Lisa Marie Boiko')\n",
      "(47, 'Richard Burns')\n",
      "(48, 'Meredith Claire')\n",
      "(49, 'Alexia DuBasso')\n",
      "(50, 'Jonn Faircrest')\n",
      "(51, 'Gina Fricchione')\n",
      "(52, 'James R. Gavio')\n",
      "(53, 'James Henderson')\n",
      "(54, 'Bruce Holman')\n",
      "(55, 'Dion W.H. Holt')\n",
      "(56, 'Jeremiah Hundley')\n",
      "(57, 'Michael Kurtz')\n",
      "(58, 'Joseph Martino')\n",
      "(59, 'Jeremy S. Miles')\n",
      "(60, 'Jon Renfield')\n",
      "(61, 'Linda Sans')\n",
      "(62, 'James Tappan')\n",
      "(63, 'Jon Thibault')\n",
      "(64, 'Sebastian Vale')\n",
      "(65, 'Jason Wingo')\n",
      "(66, 'Cynthia Youngblood')\n",
      "(67, 'Afterglows Rapunzel')\n",
      "(68, 'Afterglows Cinderella')\n",
      "(69, 'Brett Chapin')\n",
      "(70, 'Karissa Barney')\n",
      "(71, 'Bill Blair')\n",
      "(72, 'Jehanne Chinnery')\n",
      "(73, 'Lee Christian')\n",
      "(74, 'Claudette Colbert')\n",
      "(75, 'Sabrina Diaz')\n",
      "(76, 'Demarcus Eckford')\n",
      "(77, 'Brennan Feonix')\n",
      "(78, 'Cathy Fielding')\n",
      "(79, 'Leni Ford')\n",
      "(80, 'Ben Greenfield')\n",
      "(81, 'Mandy Henderson')\n",
      "(82, 'David Hill')\n",
      "(83, 'Kimberly Jo Howard')\n",
      "(84, 'Samantha Kelly')\n",
      "(85, 'Hrvoje Klecz')\n",
      "(86, 'Damian Forest Light')\n",
      "(87, 'Ian Mackay')\n",
      "(88, 'Craig Meier')\n",
      "(89, 'Tom Michaels')\n",
      "(90, 'Walter Pidgeon')\n",
      "(91, 'Geoff Pilkington')\n",
      "(92, 'Deborah Rombaut')\n",
      "(93, 'John Rothman')\n",
      "(94, 'Matt Samuel')\n",
      "(95, 'Mia Serafino')\n",
      "(96, 'Gary Sievers')\n",
      "(97, 'Chris Sprister')\n",
      "(98, 'Joel Thingvall')\n",
      "(99, 'London Vale')\n",
      "(100, 'Emely von Oest')\n",
      "(101, 'Matt Weinglass')\n",
      "(102, 'Cletus Young')\n",
      "(103, 'Rafael Zubizarreta')\n",
      "(104, 'Will Smith')\n",
      "(105, 'Eva Mendes')\n",
      "(106, 'Kevin James')\n",
      "(107, 'Amber Valletta')\n",
      "(108, 'Julie Ann Emery')\n",
      "(109, 'Adam Arkin')\n",
      "(110, 'Robinne Lee')\n",
      "(111, 'Nathan Lee Graham')\n",
      "(112, 'Michael Rapaport')\n",
      "(113, 'Jeffrey Donovan')\n",
      "(114, 'Paula Patton')\n",
      "(115, 'Philip Bosco')\n",
      "(116, 'Kevin Sussman')\n",
      "(117, 'Navia Nguyen')\n",
      "(118, 'Matt Malloy')\n",
      "(119, 'Maria Thayer')\n",
      "(120, 'Ato Essandoh')\n",
      "(121, 'Marlyne Barrett')\n",
      "(122, 'Jack Hartnett')\n",
      "(123, 'David Wike')\n",
      "(124, 'Frederick B. Owens')\n",
      "(125, 'Jenna Stern')\n",
      "(126, 'Austin Lysy')\n",
      "(127, 'Adam LeFevre')\n",
      "(128, 'Joe Lo Truglio')\n",
      "(129, 'Ptolemy Slocum')\n",
      "(130, 'Kahan James')\n",
      "(131, 'Matt Servitto')\n",
      "(132, 'Amy Hohn')\n",
      "(133, 'Mimi Weddell')\n",
      "(134, 'Maulik Pancholy')\n",
      "(135, 'Caprice Benedetti')\n",
      "(136, 'Tony Travis')\n",
      "(137, 'Mercedes López Renard')\n",
      "(138, 'Jose Llana')\n",
      "(139, 'Niels Koizumi')\n",
      "(140, 'Chris Santos')\n",
      "(141, 'Ryan Cross')\n",
      "(142, 'Tobias Truvillion')\n",
      "(143, 'Jeffrey Carlson')\n",
      "(144, 'Henri Binje')\n",
      "(145, 'Rain Phoenix')\n",
      "(146, 'Remy K. Selma')\n",
      "(147, 'Beau Sia')\n",
      "(148, 'Mika Nishida')\n",
      "(149, 'Trevor Oswalt')\n",
      "(150, 'Darrell Foster')\n",
      "(151, 'Douglas J. Aguirre')\n",
      "(152, 'Alba Albanese')\n",
      "(153, 'Anthony Amodeo')\n",
      "(154, 'Casper Andreas')\n",
      "(155, 'Anya Avaeva')\n",
      "(156, 'Brielle Barbusca')\n",
      "(157, 'Adam Bertocci')\n",
      "(158, 'Andre Blair')\n",
      "(159, 'Aneikit Bonnel')\n",
      "(160, 'Kimberly Cash')\n",
      "(161, 'Keith Chambers')\n",
      "(162, 'Valbona Coba')\n",
      "(163, 'Dono Cunningham')\n",
      "(164, 'Thomas Daniel')\n",
      "(165, 'Vincent De Paul')\n",
      "(166, 'Michelle Deighton')\n",
      "(167, 'Cesar Di Parra')\n",
      "(168, 'Michelle DiBenedetti')\n",
      "(169, 'Mike Fitzgerald')\n",
      "(170, 'Munjeet Geyer')\n",
      "(171, 'Alexandra Gizela')\n",
      "(172, 'Ranardo Domeico Grays')\n",
      "(173, 'Darryl Reuben Hall')\n",
      "(174, 'Scott Hatfield')\n",
      "(175, 'Marianne Hettinger')\n",
      "(176, 'Lou Irizarry')\n",
      "(177, 'Rick Kain')\n",
      "(178, 'Tanzeel Kayani')\n",
      "(179, 'Tanda Kerín')\n",
      "(180, 'Arnold Y. Kim')\n",
      "(181, 'Bill Kotsatos')\n",
      "(182, 'Fran Kranz')\n",
      "(183, 'Sulinh Lafontaine')\n",
      "(184, 'Alexa Lane')\n",
      "(185, 'Debbie Lang')\n",
      "(186, 'Christina Lauren')\n",
      "(187, 'Evan Leone')\n",
      "(188, 'Joanna Lu')\n",
      "(189, 'Bobby Lundon')\n",
      "(190, 'Rebecca Mader')\n",
      "(191, 'Brewster McCall')\n",
      "(192, 'Adam Wade McLaughlin')\n",
      "(193, 'Amy Metroka')\n",
      "(194, 'Kevin Kean Murphy')\n",
      "(195, 'John O. Nelson')\n",
      "(196, 'Maria Nomi')\n",
      "(197, \"Dwight Allen O'Neal\")\n",
      "(198, 'Nancy Otero')\n",
      "(199, 'Jennifer Pedersen')\n",
      "(200, 'Nick Poltoranin')\n",
      "(201, 'Nicolas Quilter')\n",
      "(202, 'Dawn Ressy')\n",
      "(203, 'Trevor Richardson')\n",
      "(204, 'Amro Salama')\n",
      "(205, 'Nina Sanchez')\n",
      "(206, 'Michalina Scorzelli')\n",
      "(207, 'Jennifer Scott')\n",
      "(208, 'Cameron Stevens')\n",
      "(209, 'Jaclyn Tommer')\n",
      "(210, 'Tim Tyrrell')\n",
      "(211, 'Keri Uribe')\n",
      "(212, 'Olivia Weston')\n",
      "(213, 'Kyle Willshire')\n",
      "(214, 'Joe Wissler')\n",
      "(215, 'Alexander Wraith')\n",
      "(216, 'Shane Wright')\n",
      "(217, 'Mike Yedwab')\n",
      "(218, 'Dianne Zaremba')\n"
     ]
    }
   ],
   "source": [
    "cursor.execute(\" select *from cast\")\n",
    "for i in cursor:\n",
    "    print(i)"
   ]
  },
  {
   "cell_type": "code",
   "execution_count": 32,
   "metadata": {},
   "outputs": [
    {
     "name": "stdout",
     "output_type": "stream",
     "text": [
      "('tt0975645', 1)\n",
      "('tt0975645', 2)\n",
      "('tt0975645', 3)\n",
      "('tt0975645', 4)\n",
      "('tt0975645', 5)\n",
      "('tt0975645', 6)\n",
      "('tt0975645', 7)\n",
      "('tt0975645', 8)\n",
      "('tt0975645', 9)\n",
      "('tt0975645', 10)\n",
      "('tt0975645', 11)\n",
      "('tt0975645', 12)\n",
      "('tt0975645', 13)\n",
      "('tt0975645', 14)\n",
      "('tt0975645', 15)\n",
      "('tt0975645', 16)\n",
      "('tt0975645', 17)\n",
      "('tt0975645', 18)\n",
      "('tt0975645', 19)\n",
      "('tt0975645', 20)\n",
      "('tt0975645', 21)\n",
      "('tt0975645', 22)\n",
      "('tt0975645', 23)\n",
      "('tt0975645', 24)\n",
      "('tt0975645', 25)\n",
      "('tt0975645', 26)\n",
      "('tt0975645', 27)\n",
      "('tt0975645', 28)\n",
      "('tt0975645', 29)\n",
      "('tt0975645', 30)\n",
      "('tt0975645', 31)\n",
      "('tt0975645', 32)\n",
      "('tt0975645', 33)\n",
      "('tt0975645', 34)\n",
      "('tt0975645', 35)\n",
      "('tt0975645', 36)\n",
      "('tt0975645', 37)\n",
      "('tt0975645', 38)\n",
      "('tt0975645', 39)\n",
      "('tt0975645', 40)\n",
      "('tt0975645', 41)\n",
      "('tt0975645', 42)\n",
      "('tt0975645', 43)\n",
      "('tt0975645', 44)\n",
      "('tt0975645', 45)\n",
      "('tt0975645', 46)\n",
      "('tt0975645', 47)\n",
      "('tt0975645', 48)\n",
      "('tt0975645', 49)\n",
      "('tt0975645', 50)\n",
      "('tt0975645', 51)\n",
      "('tt0975645', 52)\n",
      "('tt0975645', 53)\n",
      "('tt0975645', 54)\n",
      "('tt0975645', 55)\n",
      "('tt0975645', 56)\n",
      "('tt0975645', 57)\n",
      "('tt0975645', 58)\n",
      "('tt0975645', 59)\n",
      "('tt0975645', 60)\n",
      "('tt0975645', 61)\n",
      "('tt0975645', 62)\n",
      "('tt0975645', 63)\n",
      "('tt0975645', 64)\n",
      "('tt0975645', 65)\n",
      "('tt0975645', 66)\n",
      "('tt0975645', 67)\n",
      "('tt0975645', 68)\n",
      "('tt0975645', 69)\n",
      "('tt0975645', 70)\n",
      "('tt0975645', 71)\n",
      "('tt0975645', 72)\n",
      "('tt0975645', 73)\n",
      "('tt0975645', 74)\n",
      "('tt0975645', 75)\n",
      "('tt0975645', 76)\n",
      "('tt0975645', 77)\n",
      "('tt0975645', 78)\n",
      "('tt0975645', 79)\n",
      "('tt0975645', 80)\n",
      "('tt0975645', 81)\n",
      "('tt0975645', 82)\n",
      "('tt0975645', 83)\n",
      "('tt0975645', 84)\n",
      "('tt0975645', 85)\n",
      "('tt0975645', 86)\n",
      "('tt0975645', 87)\n",
      "('tt0975645', 88)\n",
      "('tt0975645', 89)\n",
      "('tt0975645', 90)\n",
      "('tt0975645', 91)\n",
      "('tt0975645', 92)\n",
      "('tt0975645', 93)\n",
      "('tt0975645', 94)\n",
      "('tt0975645', 95)\n",
      "('tt0975645', 96)\n",
      "('tt0975645', 97)\n",
      "('tt0975645', 98)\n",
      "('tt0975645', 99)\n",
      "('tt0975645', 100)\n",
      "('tt0975645', 101)\n",
      "('tt0975645', 102)\n",
      "('tt0975645', 103)\n",
      "('tt0386588', 104)\n",
      "('tt0386588', 105)\n",
      "('tt0386588', 106)\n",
      "('tt0386588', 107)\n",
      "('tt0386588', 108)\n",
      "('tt0386588', 109)\n",
      "('tt0386588', 110)\n",
      "('tt0386588', 111)\n",
      "('tt0386588', 112)\n",
      "('tt0386588', 113)\n",
      "('tt0386588', 114)\n",
      "('tt0386588', 115)\n",
      "('tt0386588', 116)\n",
      "('tt0386588', 117)\n",
      "('tt0386588', 118)\n",
      "('tt0386588', 119)\n",
      "('tt0386588', 120)\n",
      "('tt0386588', 121)\n",
      "('tt0386588', 122)\n",
      "('tt0386588', 123)\n",
      "('tt0386588', 124)\n",
      "('tt0386588', 125)\n",
      "('tt0386588', 126)\n",
      "('tt0386588', 127)\n",
      "('tt0386588', 128)\n",
      "('tt0386588', 129)\n",
      "('tt0386588', 130)\n",
      "('tt0386588', 131)\n",
      "('tt0386588', 132)\n",
      "('tt0386588', 133)\n",
      "('tt0386588', 134)\n",
      "('tt0386588', 135)\n",
      "('tt0386588', 136)\n",
      "('tt0386588', 137)\n",
      "('tt0386588', 138)\n",
      "('tt0386588', 139)\n",
      "('tt0386588', 140)\n",
      "('tt0386588', 141)\n",
      "('tt0386588', 142)\n",
      "('tt0386588', 143)\n",
      "('tt0386588', 144)\n",
      "('tt0386588', 145)\n",
      "('tt0386588', 146)\n",
      "('tt0386588', 147)\n",
      "('tt0386588', 148)\n",
      "('tt0386588', 149)\n",
      "('tt0386588', 150)\n",
      "('tt0386588', 151)\n",
      "('tt0386588', 152)\n",
      "('tt0386588', 153)\n",
      "('tt0386588', 154)\n",
      "('tt0386588', 155)\n",
      "('tt0386588', 156)\n",
      "('tt0386588', 157)\n",
      "('tt0386588', 158)\n",
      "('tt0386588', 159)\n",
      "('tt0386588', 160)\n",
      "('tt0386588', 161)\n",
      "('tt0386588', 162)\n",
      "('tt0386588', 163)\n",
      "('tt0386588', 164)\n",
      "('tt0386588', 165)\n",
      "('tt0386588', 166)\n",
      "('tt0386588', 167)\n",
      "('tt0386588', 168)\n",
      "('tt0386588', 169)\n",
      "('tt0386588', 170)\n",
      "('tt0386588', 171)\n",
      "('tt0386588', 172)\n",
      "('tt0386588', 173)\n",
      "('tt0386588', 174)\n",
      "('tt0386588', 175)\n",
      "('tt0386588', 176)\n",
      "('tt0386588', 177)\n",
      "('tt0386588', 178)\n",
      "('tt0386588', 179)\n",
      "('tt0386588', 180)\n",
      "('tt0386588', 181)\n",
      "('tt0386588', 182)\n",
      "('tt0386588', 183)\n",
      "('tt0386588', 184)\n",
      "('tt0386588', 185)\n",
      "('tt0386588', 186)\n",
      "('tt0386588', 187)\n",
      "('tt0386588', 188)\n",
      "('tt0386588', 189)\n",
      "('tt0386588', 190)\n",
      "('tt0386588', 191)\n",
      "('tt0386588', 192)\n",
      "('tt0386588', 193)\n",
      "('tt0386588', 194)\n",
      "('tt0386588', 195)\n",
      "('tt0386588', 196)\n",
      "('tt0386588', 197)\n",
      "('tt0386588', 198)\n",
      "('tt0386588', 199)\n",
      "('tt0386588', 200)\n",
      "('tt0386588', 201)\n",
      "('tt0386588', 202)\n",
      "('tt0386588', 203)\n",
      "('tt0386588', 204)\n",
      "('tt0386588', 205)\n",
      "('tt0386588', 206)\n",
      "('tt0386588', 207)\n",
      "('tt0386588', 208)\n",
      "('tt0386588', 209)\n",
      "('tt0386588', 210)\n",
      "('tt0386588', 211)\n",
      "('tt0386588', 212)\n",
      "('tt0386588', 213)\n",
      "('tt0386588', 214)\n",
      "('tt0386588', 215)\n",
      "('tt0386588', 216)\n",
      "('tt0386588', 217)\n",
      "('tt0386588', 218)\n"
     ]
    }
   ],
   "source": [
    "cursor.execute(\" select *from movie_cast\")\n",
    "for i in cursor:\n",
    "    print(i)"
   ]
  },
  {
   "cell_type": "markdown",
   "metadata": {},
   "source": [
    "### inserting into genre and movie_genre table"
   ]
  },
  {
   "cell_type": "code",
   "execution_count": null,
   "metadata": {},
   "outputs": [],
   "source": [
    "movie_a['summary']"
   ]
  },
  {
   "cell_type": "code",
   "execution_count": null,
   "metadata": {},
   "outputs": [],
   "source": [
    "cursor.execute(\"\"\"\n",
    "\n",
    "insert into summary (imdb_id, summary)\n",
    "values (?, ?)\n",
    "\n",
    "\"\"\", movie_a['imdb_code'], movie_a['summary'])"
   ]
  },
  {
   "cell_type": "markdown",
   "metadata": {},
   "source": [
    "### Method to insert data into rdbms\n"
   ]
  },
  {
   "cell_type": "code",
   "execution_count": 13,
   "metadata": {},
   "outputs": [],
   "source": [
    "def load_movie(movie:dict, cursor: pyodbc.Cursor):\n",
    "    \n",
    "    # first, we need to extract current movie's cast list from imdb_id\n",
    "    cast_list = get_cast(movie['imdb_code'])\n",
    "    \n",
    "    # now, let's insert data into respective tables one by one \n",
    "    \n",
    "    # 1-> Movie table\n",
    "    cursor.execute(\"\"\"\n",
    "    insert into movies (imdb_id, title, year, rating, runtime, mpa_rating, language, date_uploaded)\n",
    "    VALUES (?,?,?,?,?,?,?,?)\n",
    "    \"\"\",\n",
    "    movie['imdb_code'], movie['title_long'], movie['year'],movie['rating'], movie['runtime'], movie['mpa_rating'], movie['language'], movie['date_uploaded']              \n",
    "                  );\n",
    "    \n",
    "    #2-> genre and movie_genre table\n",
    "    for genre in movie['genres']:\n",
    "        cursor.execute(\"\"\"\n",
    "                    declare @temp_genre_id int;\n",
    "                    if not exists (\n",
    "                                    select * from genre\n",
    "                                    where genre_title = ?\n",
    "                                  )\n",
    "                    begin\n",
    "                        insert into genre values(?)\n",
    "                    end\n",
    "            select @temp_genre_id  = genre_id from genre where genre_title = ?\n",
    "            insert into movie_genre\n",
    "            values(?, @temp_genre_id)\n",
    "        \"\"\", genre, genre, genre, movie['imdb_code'])\n",
    "        \n",
    "    #3-> cast and movie_cast\n",
    "    for actor in cast_list:\n",
    "        cursor.execute(\"\"\"\n",
    "                    declare @temp_actor_id int;\n",
    "                    if not exists (\n",
    "                                    select * from cast\n",
    "                                    where actor_name = ?\n",
    "                                  )\n",
    "                    begin\n",
    "                            insert into cast values(?)\n",
    "                    end\n",
    "            select @temp_actor_id  = actor_id from cast where actor_name = ?\n",
    "            insert into movie_cast\n",
    "            values(?, @temp_actor_id)\n",
    "        \"\"\", actor, actor, actor, movie_a['imdb_code'])\n",
    "    \n",
    "    cursor.execute(\"\"\"\n",
    "\n",
    "        insert into summary (imdb_id, summary)\n",
    "        values (?, ?)\n",
    "\n",
    "        \"\"\", movie['imdb_code'], movie['summary'])"
   ]
  },
  {
   "cell_type": "code",
   "execution_count": 27,
   "metadata": {},
   "outputs": [
    {
     "name": "stdout",
     "output_type": "stream",
     "text": [
      "Wall time: 2.41 s\n"
     ]
    }
   ],
   "source": [
    "%%time\n",
    "load_movie(movie=movie_a, cursor=cursor)"
   ]
  },
  {
   "cell_type": "code",
   "execution_count": 33,
   "metadata": {},
   "outputs": [
    {
     "name": "stdout",
     "output_type": "stream",
     "text": [
      "('tt0975645', 'In 1959, Sir Alfred Hitchcock (Sir Anthony Hopkins) and his more often than not unheralded collaborator Alma Reville (Dame Helen Mirren), his wife, are revelling in their latest critical and box-office success: North by Northwest (1959). Some in the business believe Sir Alfred, now at age sixty, should hang up his hat while he is still on top, while the brass at Paramount Pictures, to whom he is under contract for one more movie, just wants him to follow North by Northwest (1959) with something in a similar vein to make them money. Sir Alfred, however, wants to stir his creative juices, unlike he has felt he has done with any movie of late. Against the desires of others, including Alma, he is determined that that next project will be a horror movie, specifically an adaptation of a book, that project which will eventually become Psycho (1960). For maximum impact, he wants to buy up whatever existing copies of the book are on the market, so that the public will have no idea what to expect with the movie when it&#39;s released, and to have the set closed. While Alma does faithfully support him in this endeavor, Barney Balaban (Richard Portnow), the President at Paramount Pictures, and Geoffrey Shurlock (Kurtwood Smith) with the Censor Board, do not, the former who refuses to finance the movie, leading to Sir Alfred needing to find alternate financing or self-finance, which would result in financial ruin if the movie does not make money, and the latter threatening not to provide certification over the proposed shower scene. These are only two of the external obstacles beyond some on-set problems, including Sir Alfred&#39;s mutual dislike of co-star Vera Miles (Jessica Beil), due to their previous working situations. Through it all, there may be issues at home as Sir Alfred suspects Alma of having an affair with writer Whitfield Cook (Danny Huston), who wanted Sir Alfred to use his latest manuscript as the basis for that follow-up to North by Northwest (1959), while Alma, long having despaired over Sir Alfred&#39;s obsessions with his leading ladies, most specifically Grace Kelly, just wants something in her life separate from him.')\n",
      "('tt0386588', 'Pivoting around the eternal game of love, the suave matchmaker and New York City&#39;s finest date-doctor, Alex &quot;Hitch&quot; Hitchens, can guarantee that any man can get the girl of his dreams if he overcomes his fears and follows his infallible advice. However, when the timid accountant, Albert Brennaman, enlists his help to catch the attention of the rich and beautiful heiress, Allegra Cole, Hitch will unexpectedly discover his perfect match: the inquisitive gossip columnist, Sara Melas. Now, the self-assured charmer finds himself in need of his services to save his relationship. But, can the silver-tongued expert of romance survive the delicate complications of love?')\n"
     ]
    }
   ],
   "source": [
    "cursor.execute(\"\"\"\n",
    "select *from summary\n",
    "\"\"\")\n",
    "\n",
    "for i in cursor:\n",
    "    print(i)"
   ]
  },
  {
   "cell_type": "code",
   "execution_count": null,
   "metadata": {},
   "outputs": [],
   "source": []
  }
 ],
 "metadata": {
  "colab": {
   "authorship_tag": "ABX9TyPM/HnaCVtVTEiyxk/BWyVI",
   "collapsed_sections": [],
   "name": "yts api exploration.ipynb",
   "provenance": []
  },
  "kernelspec": {
   "display_name": "Python 3 (ipykernel)",
   "language": "python",
   "name": "python3"
  },
  "language_info": {
   "codemirror_mode": {
    "name": "ipython",
    "version": 3
   },
   "file_extension": ".py",
   "mimetype": "text/x-python",
   "name": "python",
   "nbconvert_exporter": "python",
   "pygments_lexer": "ipython3",
   "version": "3.9.7"
  },
  "vscode": {
   "interpreter": {
    "hash": "7b123d82fa6e0dffb906641240f8f50674d74cbd63896a6037868928f4236b99"
   }
  }
 },
 "nbformat": 4,
 "nbformat_minor": 1
}
