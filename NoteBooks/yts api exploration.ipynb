{
 "cells": [
  {
   "cell_type": "code",
   "execution_count": 1,
   "metadata": {
    "executionInfo": {
     "elapsed": 7,
     "status": "ok",
     "timestamp": 1650988092371,
     "user": {
      "displayName": "Muhammad Abdullah",
      "userId": "12957962707231034749"
     },
     "user_tz": -300
    },
    "id": "Ok34tKJ_Vu4H"
   },
   "outputs": [],
   "source": [
    "import pandas as pd\n",
    "import requests\n",
    "from datetime import datetime\n",
    "import json\n",
    "import os\n",
    "from dateutil import parser\n",
    "import collections"
   ]
  },
  {
   "cell_type": "markdown",
   "metadata": {
    "id": "WEdS2D5LjI32"
   },
   "source": [
    "The following code helps to determine whether new data is inserted in api database or not, if so then we have to pull new movies data and put that in database and update tracking parameters. "
   ]
  },
  {
   "cell_type": "code",
   "execution_count": 2,
   "metadata": {
    "colab": {
     "base_uri": "https://localhost:8080/"
    },
    "executionInfo": {
     "elapsed": 15,
     "status": "ok",
     "timestamp": 1650904506940,
     "user": {
      "displayName": "Muhammad Abdullah",
      "userId": "12957962707231034749"
     },
     "user_tz": -300
    },
    "id": "VLW0wQJXgACi",
    "outputId": "8b01bde6-693e-4a1b-ada1-25987bf7a9e6"
   },
   "outputs": [],
   "source": [
    "last_page =  requests.get('https://yts.torrentbay.to/api/v2/list_movies.json?page=821&limit=50').json()\n",
    "first_page = requests.get('https://yts.torrentbay.to/api/v2/list_movies.json?page=1&limit=50').json()"
   ]
  },
  {
   "cell_type": "code",
   "execution_count": 3,
   "metadata": {},
   "outputs": [],
   "source": [
    "movie_a = last_page['data']['movies'][1]"
   ]
  },
  {
   "cell_type": "code",
   "execution_count": 4,
   "metadata": {},
   "outputs": [
    {
     "data": {
      "text/plain": [
       "{'id': 1393,\n",
       " 'url': 'https://yts.torrentbay.to/movies/hamlet-1990',\n",
       " 'imdb_code': 'tt0099726',\n",
       " 'title': 'Hamlet',\n",
       " 'title_english': 'Hamlet',\n",
       " 'title_long': 'Hamlet (1990)',\n",
       " 'slug': 'hamlet-1990',\n",
       " 'year': 1990,\n",
       " 'rating': 6.7,\n",
       " 'runtime': 135,\n",
       " 'genres': ['Action', 'Drama'],\n",
       " 'summary': 'Hamlet&#39;s father, the King of Denmark was murdered by Hamlet&#39;s uncle, Claudius. Gertrude (Hamlet&#39;s mother) married Claudius shortly after her husband, the king&#39;s death. The ghost of Hamlet&#39;s father comes back and tells Hamlet to kill his uncle for murdering him and to leave his mother alone because she is innocent. Hamlet is dating Ophelia until her father, Polonius persuades her to end their relationship.',\n",
       " 'description_full': 'Hamlet&#39;s father, the King of Denmark was murdered by Hamlet&#39;s uncle, Claudius. Gertrude (Hamlet&#39;s mother) married Claudius shortly after her husband, the king&#39;s death. The ghost of Hamlet&#39;s father comes back and tells Hamlet to kill his uncle for murdering him and to leave his mother alone because she is innocent. Hamlet is dating Ophelia until her father, Polonius persuades her to end their relationship.',\n",
       " 'synopsis': 'Hamlet&#39;s father, the King of Denmark was murdered by Hamlet&#39;s uncle, Claudius. Gertrude (Hamlet&#39;s mother) married Claudius shortly after her husband, the king&#39;s death. The ghost of Hamlet&#39;s father comes back and tells Hamlet to kill his uncle for murdering him and to leave his mother alone because she is innocent. Hamlet is dating Ophelia until her father, Polonius persuades her to end their relationship.',\n",
       " 'yt_trailer_code': 'tMvqWk7q8Ss',\n",
       " 'language': 'en',\n",
       " 'mpa_rating': '',\n",
       " 'background_image': 'https://yts.torrentbay.to/assets/images/movies/Hamlet_1990/background.jpg',\n",
       " 'background_image_original': 'https://yts.torrentbay.to/assets/images/movies/Hamlet_1990/background.jpg',\n",
       " 'small_cover_image': 'https://yts.torrentbay.to/assets/images/movies/Hamlet_1990/small-cover.jpg',\n",
       " 'medium_cover_image': 'https://yts.torrentbay.to/assets/images/movies/Hamlet_1990/medium-cover.jpg?v=91',\n",
       " 'large_cover_image': 'https://yts.torrentbay.to/assets/images/movies/Hamlet_1990/large-cover.jpg',\n",
       " 'state': 'ok',\n",
       " 'torrents': [{'url': 'https://yts.torrentbay.to/torrent/download/1E6385B40443393B205041814F2CEE0B97CA91E6',\n",
       "   'hash': '1E6385B40443393B205041814F2CEE0B97CA91E6',\n",
       "   'quality': '720p',\n",
       "   'type': 'bluray',\n",
       "   'seeds': 7,\n",
       "   'peers': 1,\n",
       "   'size': '1.21 GB',\n",
       "   'size_bytes': 1299227607,\n",
       "   'date_uploaded': '2022-05-24 17:15:49',\n",
       "   'date_uploaded_unix': 1653405349},\n",
       "  {'url': 'https://yts.torrentbay.to/torrent/download/A94D81D132CCEA4B465523699295D06E97B05171',\n",
       "   'hash': 'A94D81D132CCEA4B465523699295D06E97B05171',\n",
       "   'quality': '1080p',\n",
       "   'type': 'bluray',\n",
       "   'seeds': 8,\n",
       "   'peers': 2,\n",
       "   'size': '2.24 GB',\n",
       "   'size_bytes': 2405181686,\n",
       "   'date_uploaded': '2022-05-24 19:02:16',\n",
       "   'date_uploaded_unix': 1653411736}],\n",
       " 'date_uploaded': '2022-05-24 17:15:49',\n",
       " 'date_uploaded_unix': 1653405349}"
      ]
     },
     "execution_count": 4,
     "metadata": {},
     "output_type": "execute_result"
    }
   ],
   "source": [
    "movie_a"
   ]
  },
  {
   "cell_type": "code",
   "execution_count": null,
   "metadata": {},
   "outputs": [],
   "source": [
    "movie_a['genres']"
   ]
  },
  {
   "cell_type": "code",
   "execution_count": null,
   "metadata": {},
   "outputs": [],
   "source": [
    "ids = [41763,41713]\n",
    "ids"
   ]
  },
  {
   "cell_type": "code",
   "execution_count": null,
   "metadata": {},
   "outputs": [],
   "source": [
    "def check_new_movies(ids:list):\n",
    "\n",
    "    page_number = 1\n",
    "    movies_list = []\n",
    "    while True:\n",
    "        init_page = requests.get(f'https://yts.torrentbay.to/api/v2/list_movies.json?page={page_number}&limit=50').json()\n",
    "\n",
    "        current_ids = [init_page['data']['movies'][0]['id'],init_page['data']['movies'][-1]['id']]\n",
    "\n",
    "        if current_ids > ids:\n",
    "            for movie in init_page['data']['movies']:\n",
    "                movies_list.append(movie['title'])\n",
    "        \n",
    "            page_number = page_number + 1\n",
    "\n",
    "        else:\n",
    "            break\n",
    "\n",
    "    return movies_list"
   ]
  },
  {
   "cell_type": "code",
   "execution_count": null,
   "metadata": {},
   "outputs": [],
   "source": [
    "mov_list = check_new_movies(ids)"
   ]
  },
  {
   "cell_type": "code",
   "execution_count": null,
   "metadata": {},
   "outputs": [],
   "source": [
    "for movie in first_page['data']['movies']:\n",
    "    print(movie)"
   ]
  },
  {
   "cell_type": "markdown",
   "metadata": {},
   "source": [
    "Below code is for extracting movie cast based on \"IMDB code\""
   ]
  },
  {
   "cell_type": "code",
   "execution_count": 18,
   "metadata": {},
   "outputs": [],
   "source": [
    "import requests\n",
    "from bs4 import BeautifulSoup\n",
    "import re\n",
    "import time"
   ]
  },
  {
   "cell_type": "markdown",
   "metadata": {},
   "source": [
    "## method to get cast list of given imdb movie id"
   ]
  },
  {
   "cell_type": "code",
   "execution_count": 19,
   "metadata": {},
   "outputs": [],
   "source": [
    "def get_cast(imdb_id : str):\n",
    "    \n",
    "    url = f'https://www.imdb.com/title/{imdb_id}/fullcredits'\n",
    "    page = requests.get(url)\n",
    "    soup = BeautifulSoup(page.content, 'html.parser')\n",
    "    table = soup.find('table', attrs={'class' : 'cast_list'})\n",
    "    cast = table.find_all('a')   \n",
    "    \n",
    "    return re.findall(r'title=\"(.*?)\"', str(cast))"
   ]
  },
  {
   "cell_type": "markdown",
   "metadata": {},
   "source": [
    "###  The following data needed to be pulled from api response and put in warehouse\n",
    "#### : imdb_code -> unique movie code given by IMDB\n",
    "#### : title_long -> full movie title with year\n",
    "#### : year -> released year\n",
    "#### : rating -> movie rating (1-10)\n",
    "#### : runtime -> in minutes\n",
    "#### : genres -> can be one or more\n",
    "#### : summary -> summary of movie\n",
    "#### : cast -> need to scrape from IMDB\n",
    "#### : mpa_rating -> movie sensorship rating\n",
    "#### : language -> can be one or more"
   ]
  },
  {
   "cell_type": "code",
   "execution_count": 6,
   "metadata": {},
   "outputs": [
    {
     "data": {
      "text/plain": [
       "('tt0082477',\n",
       " \"Gregory's Girl (1980)\",\n",
       " 1980,\n",
       " 7.1,\n",
       " 91,\n",
       " ['Action', 'Comedy', 'Drama', 'Romance'],\n",
       " '',\n",
       " 'en')"
      ]
     },
     "execution_count": 6,
     "metadata": {},
     "output_type": "execute_result"
    }
   ],
   "source": [
    "movie_a['imdb_code'], movie_a['title_long'], movie_a['year'], movie_a['rating'], movie_a['runtime'], (movie_a['genres']), movie_a['mpa_rating'], movie_a['language']"
   ]
  },
  {
   "cell_type": "markdown",
   "metadata": {},
   "source": [
    "Here is the main problem, as movie has multiple genres, we need to figure out how to insert genres without repetation.\n",
    "First we need to insert \"imdb_code\" and \"movie_title\" in movies table. Then we have to check that genre exists in genre table, if so then we can skip, else insert it."
   ]
  },
  {
   "cell_type": "code",
   "execution_count": 5,
   "metadata": {},
   "outputs": [],
   "source": [
    "import pyodbc"
   ]
  },
  {
   "cell_type": "code",
   "execution_count": 6,
   "metadata": {},
   "outputs": [],
   "source": [
    "conn = pyodbc.connect('Driver={SQL Server};'\n",
    "                      'Server=DESKTOP-K8VV6KV;'\n",
    "                      'Database=yts_warehouse;'\n",
    "                      'Trusted_Connection=yes;')"
   ]
  },
  {
   "cell_type": "code",
   "execution_count": 7,
   "metadata": {},
   "outputs": [],
   "source": [
    "cursor = conn.cursor()"
   ]
  },
  {
   "cell_type": "markdown",
   "metadata": {},
   "source": [
    "### inserting into movie table"
   ]
  },
  {
   "cell_type": "code",
   "execution_count": 51,
   "metadata": {},
   "outputs": [
    {
     "data": {
      "text/plain": [
       "<pyodbc.Cursor at 0x24abc82bab0>"
      ]
     },
     "execution_count": 51,
     "metadata": {},
     "output_type": "execute_result"
    }
   ],
   "source": [
    "cursor.execute(\"\"\"\n",
    "insert into movies (imdb_id, title, year, rating, runtime, mpa_rating, language, date_uploaded)\n",
    "VALUES (?,?,?,?,?,?,?,?)\n",
    "\"\"\",\n",
    "movie_a['imdb_code'], movie_a['title_long'], movie_a['year'],movie_a['rating'], movie_a['runtime'], movie_a['mpa_rating'], movie_a['language'], movie_a['date_uploaded']              \n",
    "              )"
   ]
  },
  {
   "cell_type": "markdown",
   "metadata": {},
   "source": [
    "### inserting into genre table"
   ]
  },
  {
   "cell_type": "code",
   "execution_count": 21,
   "metadata": {},
   "outputs": [],
   "source": [
    "for genre in movie_b['genres']:\n",
    "    cursor.execute(\"\"\"\n",
    "            if not exists (\n",
    "            select * from genre\n",
    "            where genre_title = ?\n",
    "            )\n",
    "            begin\n",
    "                insert into genre values(?)\n",
    "            end      \n",
    "    \"\"\", genre, genre)"
   ]
  },
  {
   "cell_type": "code",
   "execution_count": 22,
   "metadata": {},
   "outputs": [
    {
     "data": {
      "text/plain": [
       "<pyodbc.Cursor at 0x202535deab0>"
      ]
     },
     "execution_count": 22,
     "metadata": {},
     "output_type": "execute_result"
    }
   ],
   "source": [
    "cursor.execute('select *from genre')"
   ]
  },
  {
   "cell_type": "code",
   "execution_count": 23,
   "metadata": {},
   "outputs": [
    {
     "name": "stdout",
     "output_type": "stream",
     "text": [
      "(1, 'Action')\n",
      "(2, 'Drama')\n",
      "(3, 'Adventure')\n",
      "(4, 'History')\n",
      "(5, 'Horror')\n"
     ]
    }
   ],
   "source": [
    "for i in cursor:\n",
    "    print(i)"
   ]
  },
  {
   "cell_type": "code",
   "execution_count": 14,
   "metadata": {},
   "outputs": [
    {
     "data": {
      "text/plain": [
       "['Action', 'Drama']"
      ]
     },
     "execution_count": 14,
     "metadata": {},
     "output_type": "execute_result"
    }
   ],
   "source": [
    "movie_a['genres']"
   ]
  },
  {
   "cell_type": "code",
   "execution_count": 18,
   "metadata": {},
   "outputs": [],
   "source": [
    "movie_b = last_page['data']['movies'][0]"
   ]
  },
  {
   "cell_type": "code",
   "execution_count": 20,
   "metadata": {},
   "outputs": [
    {
     "data": {
      "text/plain": [
       "['Action', 'Adventure', 'History', 'Horror']"
      ]
     },
     "execution_count": 20,
     "metadata": {},
     "output_type": "execute_result"
    }
   ],
   "source": [
    "movie_b['genres']"
   ]
  },
  {
   "cell_type": "code",
   "execution_count": null,
   "metadata": {},
   "outputs": [],
   "source": []
  }
 ],
 "metadata": {
  "colab": {
   "authorship_tag": "ABX9TyPM/HnaCVtVTEiyxk/BWyVI",
   "collapsed_sections": [],
   "name": "yts api exploration.ipynb",
   "provenance": []
  },
  "kernelspec": {
   "display_name": "Python 3 (ipykernel)",
   "language": "python",
   "name": "python3"
  },
  "language_info": {
   "codemirror_mode": {
    "name": "ipython",
    "version": 3
   },
   "file_extension": ".py",
   "mimetype": "text/x-python",
   "name": "python",
   "nbconvert_exporter": "python",
   "pygments_lexer": "ipython3",
   "version": "3.9.7"
  },
  "vscode": {
   "interpreter": {
    "hash": "7b123d82fa6e0dffb906641240f8f50674d74cbd63896a6037868928f4236b99"
   }
  }
 },
 "nbformat": 4,
 "nbformat_minor": 1
}
