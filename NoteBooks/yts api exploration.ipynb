{
 "cells": [
  {
   "cell_type": "code",
   "execution_count": null,
   "metadata": {
    "executionInfo": {
     "elapsed": 7,
     "status": "ok",
     "timestamp": 1650988092371,
     "user": {
      "displayName": "Muhammad Abdullah",
      "userId": "12957962707231034749"
     },
     "user_tz": -300
    },
    "id": "Ok34tKJ_Vu4H"
   },
   "outputs": [],
   "source": [
    "import pandas as pd\n",
    "import requests\n",
    "from datetime import datetime\n",
    "import json\n",
    "import os\n",
    "from dateutil import parser\n",
    "import collections"
   ]
  },
  {
   "cell_type": "markdown",
   "metadata": {
    "id": "WEdS2D5LjI32"
   },
   "source": [
    "The following code helps to determine whether new data is inserted in api database or not, if so then we have to pull new movies data and put that in database and update tracking parameters. "
   ]
  },
  {
   "cell_type": "code",
   "execution_count": null,
   "metadata": {
    "colab": {
     "base_uri": "https://localhost:8080/"
    },
    "executionInfo": {
     "elapsed": 15,
     "status": "ok",
     "timestamp": 1650904506940,
     "user": {
      "displayName": "Muhammad Abdullah",
      "userId": "12957962707231034749"
     },
     "user_tz": -300
    },
    "id": "VLW0wQJXgACi",
    "outputId": "8b01bde6-693e-4a1b-ada1-25987bf7a9e6"
   },
   "outputs": [],
   "source": [
    "last_page =  requests.get('https://yts.torrentbay.to/api/v2/list_movies.json?page=821&limit=50').json()\n",
    "first_page = requests.get('https://yts.torrentbay.to/api/v2/list_movies.json?page=1&limit=50').json()"
   ]
  },
  {
   "cell_type": "code",
   "execution_count": null,
   "metadata": {},
   "outputs": [],
   "source": [
    "movie_a = last_page['data']['movies'][1]"
   ]
  },
  {
   "cell_type": "code",
   "execution_count": null,
   "metadata": {},
   "outputs": [],
   "source": [
    "movie_a"
   ]
  },
  {
   "cell_type": "code",
   "execution_count": null,
   "metadata": {},
   "outputs": [],
   "source": [
    "movie_a['genres']"
   ]
  },
  {
   "cell_type": "code",
   "execution_count": null,
   "metadata": {},
   "outputs": [],
   "source": [
    "ids = [41763,41713]\n",
    "ids"
   ]
  },
  {
   "cell_type": "code",
   "execution_count": null,
   "metadata": {},
   "outputs": [],
   "source": [
    "def check_new_movies(ids:list):\n",
    "\n",
    "    page_number = 1\n",
    "    movies_list = []\n",
    "    while True:\n",
    "        init_page = requests.get(f'https://yts.torrentbay.to/api/v2/list_movies.json?page={page_number}&limit=50').json()\n",
    "\n",
    "        current_ids = [init_page['data']['movies'][0]['id'],init_page['data']['movies'][-1]['id']]\n",
    "\n",
    "        if current_ids > ids:\n",
    "            for movie in init_page['data']['movies']:\n",
    "                movies_list.append(movie['title'])\n",
    "        \n",
    "            page_number = page_number + 1\n",
    "\n",
    "        else:\n",
    "            break\n",
    "\n",
    "    return movies_list"
   ]
  },
  {
   "cell_type": "code",
   "execution_count": null,
   "metadata": {},
   "outputs": [],
   "source": [
    "mov_list = check_new_movies(ids)"
   ]
  },
  {
   "cell_type": "code",
   "execution_count": null,
   "metadata": {},
   "outputs": [],
   "source": [
    "for movie in first_page['data']['movies']:\n",
    "    print(movie)"
   ]
  },
  {
   "cell_type": "markdown",
   "metadata": {},
   "source": [
    "Below code is for extracting movie cast based on \"IMDB code\""
   ]
  },
  {
   "cell_type": "code",
   "execution_count": 10,
   "metadata": {},
   "outputs": [],
   "source": [
    "import requests\n",
    "from bs4 import BeautifulSoup\n",
    "import re\n",
    "import time"
   ]
  },
  {
   "cell_type": "code",
   "execution_count": 21,
   "metadata": {},
   "outputs": [],
   "source": [
    "url = f'https://www.imdb.com/title/tt2065946/fullcredits'\n",
    "page = requests.get(url)\n",
    "soup = BeautifulSoup(page.content, 'html.parser')"
   ]
  },
  {
   "cell_type": "code",
   "execution_count": 22,
   "metadata": {},
   "outputs": [],
   "source": [
    "table = soup.find('table', attrs={'class' : 'cast_list'})"
   ]
  },
  {
   "cell_type": "code",
   "execution_count": 23,
   "metadata": {},
   "outputs": [],
   "source": [
    "cast = table.find_all('a')"
   ]
  },
  {
   "cell_type": "code",
   "execution_count": 24,
   "metadata": {},
   "outputs": [
    {
     "data": {
      "text/plain": [
       "''"
      ]
     },
     "execution_count": 24,
     "metadata": {},
     "output_type": "execute_result"
    }
   ],
   "source": [
    "cast[0].get_text().strip('\\n').strip()"
   ]
  },
  {
   "cell_type": "code",
   "execution_count": 63,
   "metadata": {},
   "outputs": [
    {
     "data": {
      "text/plain": [
       "[<a href=\"/name/nm1881049/\"><img alt=\"Miho Fujima\" class=\"\" height=\"44\" src=\"https://m.media-amazon.com/images/S/sash/N1QWYSqAfSJV62Y.png\" title=\"Miho Fujima\" width=\"32\"/></a>,\n",
       " <a href=\"/name/nm1881049/\"> Miho Fujima\n",
       " </a>,\n",
       " <a href=\"/name/nm0620267/\"><img alt=\"Yûko Nakamura\" class=\"\" height=\"44\" src=\"https://m.media-amazon.com/images/S/sash/N1QWYSqAfSJV62Y.png\" title=\"Yûko Nakamura\" width=\"32\"/></a>,\n",
       " <a href=\"/name/nm0620267/\"> Yûko Nakamura\n",
       " </a>,\n",
       " <a href=\"/name/nm0913831/\"><img alt=\"Makiko Watanabe\" class=\"loadlate hidden\" height=\"44\" loadlate=\"https://m.media-amazon.com/images/M/MV5BMTY4MDAwNzYxMF5BMl5BanBnXkFtZTcwNjQxNDc3MQ@@._V1_UX32_CR0,0,32,44_AL_.jpg\" src=\"https://m.media-amazon.com/images/S/sash/N1QWYSqAfSJV62Y.png\" title=\"Makiko Watanabe\" width=\"32\"/></a>,\n",
       " <a href=\"/name/nm0913831/\"> Makiko Watanabe\n",
       " </a>]"
      ]
     },
     "execution_count": 63,
     "metadata": {},
     "output_type": "execute_result"
    }
   ],
   "source": [
    "cast"
   ]
  },
  {
   "cell_type": "code",
   "execution_count": 64,
   "metadata": {},
   "outputs": [
    {
     "data": {
      "text/plain": [
       "['Miho Fujima', 'Yûko Nakamura', 'Makiko Watanabe']"
      ]
     },
     "execution_count": 64,
     "metadata": {},
     "output_type": "execute_result"
    }
   ],
   "source": [
    "re.findall(r'title=\"(.*?)\"', str(cast))"
   ]
  },
  {
   "cell_type": "code",
   "execution_count": null,
   "metadata": {},
   "outputs": [],
   "source": []
  },
  {
   "cell_type": "code",
   "execution_count": null,
   "metadata": {},
   "outputs": [],
   "source": []
  },
  {
   "cell_type": "code",
   "execution_count": 62,
   "metadata": {},
   "outputs": [
    {
     "name": "stdout",
     "output_type": "stream",
     "text": [
      "['Miho Fujima']\n",
      "[]\n",
      "['Yûko Nakamura']\n",
      "[]\n",
      "['Makiko Watanabe']\n",
      "[]\n"
     ]
    }
   ],
   "source": [
    "cast_list = []\n",
    "for actor in cast:\n",
    "    print(re.findall(r'title=\"(.*?)\"', str(actor)))"
   ]
  },
  {
   "cell_type": "code",
   "execution_count": null,
   "metadata": {},
   "outputs": [],
   "source": [
    "tuple(cast_list[::3])"
   ]
  },
  {
   "cell_type": "markdown",
   "metadata": {},
   "source": [
    "## method to get cast list of given imdb movie id"
   ]
  },
  {
   "cell_type": "code",
   "execution_count": 65,
   "metadata": {},
   "outputs": [],
   "source": [
    "def get_cast(imdb_id : str):\n",
    "    \n",
    "    url = f'https://www.imdb.com/title/{imdb_id}/fullcredits'\n",
    "    page = requests.get(url)\n",
    "    soup = BeautifulSoup(page.content, 'html.parser')\n",
    "    table = soup.find('table', attrs={'class' : 'cast_list'})\n",
    "    cast = table.find_all('a')   \n",
    "    \n",
    "    return re.findall(r'title=\"(.*?)\"', str(cast))"
   ]
  },
  {
   "cell_type": "code",
   "execution_count": 69,
   "metadata": {},
   "outputs": [
    {
     "name": "stdout",
     "output_type": "stream",
     "text": [
      "Wall time: 15.2 s\n"
     ]
    }
   ],
   "source": [
    "%%time\n",
    "ac = get_cast('tt2065942')"
   ]
  },
  {
   "cell_type": "code",
   "execution_count": 70,
   "metadata": {},
   "outputs": [
    {
     "data": {
      "text/plain": [
       "['Atomic Kitten',\n",
       " 'Irene Blanco',\n",
       " 'Sandra Blanco',\n",
       " 'Miguel Ángel Cabrera',\n",
       " 'María del Mar',\n",
       " 'Natalia Estrada',\n",
       " 'Rosario Flores',\n",
       " 'Pao González',\n",
       " 'Sandra Gálvez',\n",
       " 'Sonia Gálvez',\n",
       " 'Dioni Martín',\n",
       " 'Ángeles Muñoz',\n",
       " 'María Rodríguez',\n",
       " 'Pedro Ruiz',\n",
       " 'Gala Évora']"
      ]
     },
     "execution_count": 70,
     "metadata": {},
     "output_type": "execute_result"
    }
   ],
   "source": [
    "ac"
   ]
  },
  {
   "cell_type": "code",
   "execution_count": null,
   "metadata": {},
   "outputs": [],
   "source": []
  }
 ],
 "metadata": {
  "colab": {
   "authorship_tag": "ABX9TyPM/HnaCVtVTEiyxk/BWyVI",
   "collapsed_sections": [],
   "name": "yts api exploration.ipynb",
   "provenance": []
  },
  "kernelspec": {
   "display_name": "Python 3 (ipykernel)",
   "language": "python",
   "name": "python3"
  },
  "language_info": {
   "codemirror_mode": {
    "name": "ipython",
    "version": 3
   },
   "file_extension": ".py",
   "mimetype": "text/x-python",
   "name": "python",
   "nbconvert_exporter": "python",
   "pygments_lexer": "ipython3",
   "version": "3.9.7"
  },
  "vscode": {
   "interpreter": {
    "hash": "7b123d82fa6e0dffb906641240f8f50674d74cbd63896a6037868928f4236b99"
   }
  }
 },
 "nbformat": 4,
 "nbformat_minor": 1
}
